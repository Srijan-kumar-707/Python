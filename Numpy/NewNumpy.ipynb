{
 "cells": [
  {
   "cell_type": "code",
   "id": "initial_id",
   "metadata": {
    "collapsed": true,
    "ExecuteTime": {
     "end_time": "2025-02-04T18:05:11.752478Z",
     "start_time": "2025-02-04T18:05:11.742816Z"
    }
   },
   "source": "import numpy as np",
   "outputs": [],
   "execution_count": 9
  },
  {
   "metadata": {
    "ExecuteTime": {
     "end_time": "2025-02-04T18:05:11.768628Z",
     "start_time": "2025-02-04T18:05:11.758890Z"
    }
   },
   "cell_type": "code",
   "source": "arr = np.array([[1,2,3,4,5],[6,7,8,9,10],[11,12,13,14,15]])",
   "id": "423bdc685b432f33",
   "outputs": [],
   "execution_count": 10
  },
  {
   "metadata": {
    "ExecuteTime": {
     "end_time": "2025-02-04T18:05:11.780787Z",
     "start_time": "2025-02-04T18:05:11.774784Z"
    }
   },
   "cell_type": "code",
   "source": "arr",
   "id": "c7bac3540eb1b568",
   "outputs": [
    {
     "data": {
      "text/plain": [
       "array([[ 1,  2,  3,  4,  5],\n",
       "       [ 6,  7,  8,  9, 10],\n",
       "       [11, 12, 13, 14, 15]])"
      ]
     },
     "execution_count": 11,
     "metadata": {},
     "output_type": "execute_result"
    }
   ],
   "execution_count": 11
  },
  {
   "metadata": {
    "ExecuteTime": {
     "end_time": "2025-02-04T18:06:46.418679Z",
     "start_time": "2025-02-04T18:06:46.397849Z"
    }
   },
   "cell_type": "code",
   "source": "arr.ndim",
   "id": "de517ee183f8034a",
   "outputs": [
    {
     "data": {
      "text/plain": [
       "2"
      ]
     },
     "execution_count": 14,
     "metadata": {},
     "output_type": "execute_result"
    }
   ],
   "execution_count": 14
  },
  {
   "metadata": {
    "ExecuteTime": {
     "end_time": "2025-02-04T18:07:01.664519Z",
     "start_time": "2025-02-04T18:07:01.659800Z"
    }
   },
   "cell_type": "code",
   "source": "arr.shape",
   "id": "d83fe659272701da",
   "outputs": [
    {
     "data": {
      "text/plain": [
       "(3, 5)"
      ]
     },
     "execution_count": 15,
     "metadata": {},
     "output_type": "execute_result"
    }
   ],
   "execution_count": 15
  },
  {
   "metadata": {
    "ExecuteTime": {
     "end_time": "2025-02-04T18:07:10.866207Z",
     "start_time": "2025-02-04T18:07:10.861451Z"
    }
   },
   "cell_type": "code",
   "source": "arr.size",
   "id": "268a2de43883e341",
   "outputs": [
    {
     "data": {
      "text/plain": [
       "15"
      ]
     },
     "execution_count": 16,
     "metadata": {},
     "output_type": "execute_result"
    }
   ],
   "execution_count": 16
  },
  {
   "metadata": {
    "ExecuteTime": {
     "end_time": "2025-02-04T18:07:27.309868Z",
     "start_time": "2025-02-04T18:07:27.304074Z"
    }
   },
   "cell_type": "code",
   "source": "arr.dtype",
   "id": "7eccd6da636c9223",
   "outputs": [
    {
     "data": {
      "text/plain": [
       "dtype('int64')"
      ]
     },
     "execution_count": 17,
     "metadata": {},
     "output_type": "execute_result"
    }
   ],
   "execution_count": 17
  },
  {
   "metadata": {
    "ExecuteTime": {
     "end_time": "2025-02-04T18:07:35.827551Z",
     "start_time": "2025-02-04T18:07:35.818026Z"
    }
   },
   "cell_type": "code",
   "source": "arr.itemsize",
   "id": "d1000b2f5d5f0a88",
   "outputs": [
    {
     "data": {
      "text/plain": [
       "8"
      ]
     },
     "execution_count": 18,
     "metadata": {},
     "output_type": "execute_result"
    }
   ],
   "execution_count": 18
  },
  {
   "metadata": {
    "ExecuteTime": {
     "end_time": "2025-02-04T18:08:58.247595Z",
     "start_time": "2025-02-04T18:08:58.234662Z"
    }
   },
   "cell_type": "code",
   "source": "arr.reshape(5,3)",
   "id": "71e6df12f4a92ac1",
   "outputs": [
    {
     "data": {
      "text/plain": [
       "array([[ 1,  2,  3],\n",
       "       [ 4,  5,  6],\n",
       "       [ 7,  8,  9],\n",
       "       [10, 11, 12],\n",
       "       [13, 14, 15]])"
      ]
     },
     "execution_count": 22,
     "metadata": {},
     "output_type": "execute_result"
    }
   ],
   "execution_count": 22
  },
  {
   "metadata": {
    "ExecuteTime": {
     "end_time": "2025-02-04T18:08:16.795188Z",
     "start_time": "2025-02-04T18:08:16.787692Z"
    }
   },
   "cell_type": "code",
   "source": "arr[:,3]",
   "id": "519a13ee8b7f869c",
   "outputs": [
    {
     "data": {
      "text/plain": [
       "array([ 4,  9, 14])"
      ]
     },
     "execution_count": 20,
     "metadata": {},
     "output_type": "execute_result"
    }
   ],
   "execution_count": 20
  },
  {
   "metadata": {
    "ExecuteTime": {
     "end_time": "2025-02-04T18:09:53.587637Z",
     "start_time": "2025-02-04T18:09:53.580378Z"
    }
   },
   "cell_type": "code",
   "source": "arr[1:]",
   "id": "e2a51a738a153dfe",
   "outputs": [
    {
     "data": {
      "text/plain": [
       "array([[ 6,  7,  8,  9, 10],\n",
       "       [11, 12, 13, 14, 15]])"
      ]
     },
     "execution_count": 23,
     "metadata": {},
     "output_type": "execute_result"
    }
   ],
   "execution_count": 23
  },
  {
   "metadata": {
    "ExecuteTime": {
     "end_time": "2025-02-04T18:10:07.192361Z",
     "start_time": "2025-02-04T18:10:07.186350Z"
    }
   },
   "cell_type": "code",
   "source": "arr[::-1]",
   "id": "e1f0ac56c539ae2",
   "outputs": [
    {
     "data": {
      "text/plain": [
       "array([[11, 12, 13, 14, 15],\n",
       "       [ 6,  7,  8,  9, 10],\n",
       "       [ 1,  2,  3,  4,  5]])"
      ]
     },
     "execution_count": 24,
     "metadata": {},
     "output_type": "execute_result"
    }
   ],
   "execution_count": 24
  },
  {
   "metadata": {
    "ExecuteTime": {
     "end_time": "2025-02-04T18:11:20.277574Z",
     "start_time": "2025-02-04T18:11:20.270469Z"
    }
   },
   "cell_type": "code",
   "source": "arr1 = np.zeros((3,4))",
   "id": "cd1b6af664981095",
   "outputs": [],
   "execution_count": 26
  },
  {
   "metadata": {
    "ExecuteTime": {
     "end_time": "2025-02-04T18:11:24.877587Z",
     "start_time": "2025-02-04T18:11:24.862411Z"
    }
   },
   "cell_type": "code",
   "source": "arr1",
   "id": "1fa65a7790da8ea2",
   "outputs": [
    {
     "data": {
      "text/plain": [
       "array([[0., 0., 0., 0.],\n",
       "       [0., 0., 0., 0.],\n",
       "       [0., 0., 0., 0.]])"
      ]
     },
     "execution_count": 27,
     "metadata": {},
     "output_type": "execute_result"
    }
   ],
   "execution_count": 27
  },
  {
   "metadata": {
    "ExecuteTime": {
     "end_time": "2025-02-04T18:12:57.169292Z",
     "start_time": "2025-02-04T18:12:57.163758Z"
    }
   },
   "cell_type": "code",
   "source": "arr2 = np.ones((3,4))",
   "id": "a94b5ef65bc09dc5",
   "outputs": [],
   "execution_count": 28
  },
  {
   "metadata": {
    "ExecuteTime": {
     "end_time": "2025-02-04T18:12:59.291225Z",
     "start_time": "2025-02-04T18:12:59.280395Z"
    }
   },
   "cell_type": "code",
   "source": "arr2",
   "id": "5cf7f74d9caada32",
   "outputs": [
    {
     "data": {
      "text/plain": [
       "array([[1., 1., 1., 1.],\n",
       "       [1., 1., 1., 1.],\n",
       "       [1., 1., 1., 1.]])"
      ]
     },
     "execution_count": 29,
     "metadata": {},
     "output_type": "execute_result"
    }
   ],
   "execution_count": 29
  },
  {
   "metadata": {
    "ExecuteTime": {
     "end_time": "2025-02-04T18:14:03.799007Z",
     "start_time": "2025-02-04T18:14:03.791646Z"
    }
   },
   "cell_type": "code",
   "source": "arr = np.random.rand(3,4)",
   "id": "944729ff14aef2d6",
   "outputs": [],
   "execution_count": 30
  },
  {
   "metadata": {
    "ExecuteTime": {
     "end_time": "2025-02-04T18:14:06.876018Z",
     "start_time": "2025-02-04T18:14:06.870475Z"
    }
   },
   "cell_type": "code",
   "source": "arr",
   "id": "f3c9bc590d4b3ec9",
   "outputs": [
    {
     "data": {
      "text/plain": [
       "array([[0.64738012, 0.97961901, 0.66203677, 0.03008769],\n",
       "       [0.08962669, 0.2546795 , 0.58491415, 0.22799616],\n",
       "       [0.87625848, 0.88434846, 0.57856779, 0.08005508]])"
      ]
     },
     "execution_count": 31,
     "metadata": {},
     "output_type": "execute_result"
    }
   ],
   "execution_count": 31
  },
  {
   "metadata": {
    "ExecuteTime": {
     "end_time": "2025-02-04T18:14:46.727303Z",
     "start_time": "2025-02-04T18:14:46.722830Z"
    }
   },
   "cell_type": "code",
   "source": "arr = np.random.rand(10)",
   "id": "ba778ba3c8103cb0",
   "outputs": [],
   "execution_count": 32
  },
  {
   "metadata": {
    "ExecuteTime": {
     "end_time": "2025-02-04T18:14:48.572144Z",
     "start_time": "2025-02-04T18:14:48.565338Z"
    }
   },
   "cell_type": "code",
   "source": "arr",
   "id": "840668e8b9047ee6",
   "outputs": [
    {
     "data": {
      "text/plain": [
       "array([0.58449326, 0.44715856, 0.13834385, 0.45943787, 0.06555009,\n",
       "       0.7433011 , 0.20457038, 0.66372316, 0.70786817, 0.48547704])"
      ]
     },
     "execution_count": 33,
     "metadata": {},
     "output_type": "execute_result"
    }
   ],
   "execution_count": 33
  },
  {
   "metadata": {
    "ExecuteTime": {
     "end_time": "2025-02-04T18:15:44.099759Z",
     "start_time": "2025-02-04T18:15:44.079690Z"
    }
   },
   "cell_type": "code",
   "source": "arr = np.random.randint(1,20,20)",
   "id": "2385811650052ff9",
   "outputs": [],
   "execution_count": 34
  },
  {
   "metadata": {
    "ExecuteTime": {
     "end_time": "2025-02-04T18:15:46.175418Z",
     "start_time": "2025-02-04T18:15:46.168654Z"
    }
   },
   "cell_type": "code",
   "source": "arr",
   "id": "98a1a27267021517",
   "outputs": [
    {
     "data": {
      "text/plain": [
       "array([12,  6,  3, 14, 14,  5,  2,  2, 10, 17, 13, 17,  7, 14,  3, 12, 14,\n",
       "       19, 14,  7], dtype=int32)"
      ]
     },
     "execution_count": 35,
     "metadata": {},
     "output_type": "execute_result"
    }
   ],
   "execution_count": 35
  },
  {
   "metadata": {
    "ExecuteTime": {
     "end_time": "2025-02-04T18:17:32.092566Z",
     "start_time": "2025-02-04T18:17:32.082784Z"
    }
   },
   "cell_type": "code",
   "source": "arr = np.array([[1,2,3],[4,5,6]])",
   "id": "46b1c9de4cfb523d",
   "outputs": [],
   "execution_count": 37
  },
  {
   "metadata": {
    "ExecuteTime": {
     "end_time": "2025-02-04T18:17:34.580993Z",
     "start_time": "2025-02-04T18:17:34.572308Z"
    }
   },
   "cell_type": "code",
   "source": "arr",
   "id": "a3ee93e4a8444ebe",
   "outputs": [
    {
     "data": {
      "text/plain": [
       "array([[1, 2, 3],\n",
       "       [4, 5, 6]])"
      ]
     },
     "execution_count": 38,
     "metadata": {},
     "output_type": "execute_result"
    }
   ],
   "execution_count": 38
  },
  {
   "metadata": {
    "ExecuteTime": {
     "end_time": "2025-02-04T18:17:39.081686Z",
     "start_time": "2025-02-04T18:17:39.071187Z"
    }
   },
   "cell_type": "code",
   "source": "arr[0]",
   "id": "f6eef714639a9ba9",
   "outputs": [
    {
     "data": {
      "text/plain": [
       "array([1, 2, 3])"
      ]
     },
     "execution_count": 39,
     "metadata": {},
     "output_type": "execute_result"
    }
   ],
   "execution_count": 39
  },
  {
   "metadata": {
    "ExecuteTime": {
     "end_time": "2025-02-04T18:17:43.537220Z",
     "start_time": "2025-02-04T18:17:43.527586Z"
    }
   },
   "cell_type": "code",
   "source": "arr[1]",
   "id": "333f544a8683826f",
   "outputs": [
    {
     "data": {
      "text/plain": [
       "array([4, 5, 6])"
      ]
     },
     "execution_count": 40,
     "metadata": {},
     "output_type": "execute_result"
    }
   ],
   "execution_count": 40
  },
  {
   "metadata": {
    "ExecuteTime": {
     "end_time": "2025-02-04T18:18:34.967760Z",
     "start_time": "2025-02-04T18:18:34.958146Z"
    }
   },
   "cell_type": "code",
   "source": "print(arr[0,2])",
   "id": "d6d2c2561b5d361f",
   "outputs": [
    {
     "name": "stdout",
     "output_type": "stream",
     "text": [
      "3\n"
     ]
    }
   ],
   "execution_count": 43
  },
  {
   "metadata": {
    "ExecuteTime": {
     "end_time": "2025-02-04T18:20:38.155152Z",
     "start_time": "2025-02-04T18:20:38.146725Z"
    }
   },
   "cell_type": "code",
   "source": "arr[arr>3]",
   "id": "af663a8970cffa0d",
   "outputs": [
    {
     "data": {
      "text/plain": [
       "array([4, 5, 6])"
      ]
     },
     "execution_count": 44,
     "metadata": {},
     "output_type": "execute_result"
    }
   ],
   "execution_count": 44
  },
  {
   "metadata": {
    "ExecuteTime": {
     "end_time": "2025-02-04T18:20:49.293105Z",
     "start_time": "2025-02-04T18:20:49.288417Z"
    }
   },
   "cell_type": "code",
   "source": "arr[arr>5]",
   "id": "8570a057576f04c7",
   "outputs": [
    {
     "data": {
      "text/plain": [
       "array([6])"
      ]
     },
     "execution_count": 45,
     "metadata": {},
     "output_type": "execute_result"
    }
   ],
   "execution_count": 45
  },
  {
   "metadata": {
    "ExecuteTime": {
     "end_time": "2025-02-04T18:21:05.746312Z",
     "start_time": "2025-02-04T18:21:05.735706Z"
    }
   },
   "cell_type": "code",
   "source": "arr>3",
   "id": "36452b9af3c28ef5",
   "outputs": [
    {
     "data": {
      "text/plain": [
       "array([[False, False, False],\n",
       "       [ True,  True,  True]])"
      ]
     },
     "execution_count": 46,
     "metadata": {},
     "output_type": "execute_result"
    }
   ],
   "execution_count": 46
  },
  {
   "metadata": {},
   "cell_type": "code",
   "outputs": [],
   "execution_count": null,
   "source": "",
   "id": "6d67fd019a81ea1e"
  }
 ],
 "metadata": {
  "kernelspec": {
   "display_name": "Python 3",
   "language": "python",
   "name": "python3"
  },
  "language_info": {
   "codemirror_mode": {
    "name": "ipython",
    "version": 2
   },
   "file_extension": ".py",
   "mimetype": "text/x-python",
   "name": "python",
   "nbconvert_exporter": "python",
   "pygments_lexer": "ipython2",
   "version": "2.7.6"
  }
 },
 "nbformat": 4,
 "nbformat_minor": 5
}
