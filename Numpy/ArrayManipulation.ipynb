{
 "cells": [
  {
   "metadata": {},
   "cell_type": "raw",
   "source": "#Array Manipulation",
   "id": "435b924af023db2b"
  },
  {
   "metadata": {},
   "cell_type": "markdown",
   "source": "",
   "id": "c517f64ed780432"
  },
  {
   "metadata": {
    "ExecuteTime": {
     "end_time": "2025-02-04T18:32:30.790487Z",
     "start_time": "2025-02-04T18:32:30.777723Z"
    }
   },
   "cell_type": "code",
   "source": [
    "import numpy as np\n",
    "arr = np.array([[1,2,3],[4,5,6]])"
   ],
   "id": "b9cc66f9bddaebdf",
   "outputs": [],
   "execution_count": 68
  },
  {
   "metadata": {
    "ExecuteTime": {
     "end_time": "2025-02-04T18:32:30.814350Z",
     "start_time": "2025-02-04T18:32:30.805541Z"
    }
   },
   "cell_type": "code",
   "source": "arr",
   "id": "3f0484a93a37cd6a",
   "outputs": [
    {
     "data": {
      "text/plain": [
       "array([[1, 2, 3],\n",
       "       [4, 5, 6]])"
      ]
     },
     "execution_count": 69,
     "metadata": {},
     "output_type": "execute_result"
    }
   ],
   "execution_count": 69
  },
  {
   "metadata": {
    "ExecuteTime": {
     "end_time": "2025-02-04T18:32:30.854323Z",
     "start_time": "2025-02-04T18:32:30.850288Z"
    }
   },
   "cell_type": "code",
   "source": "arr.shape",
   "id": "2c62d20ae5f0bb84",
   "outputs": [
    {
     "data": {
      "text/plain": [
       "(2, 3)"
      ]
     },
     "execution_count": 70,
     "metadata": {},
     "output_type": "execute_result"
    }
   ],
   "execution_count": 70
  },
  {
   "metadata": {
    "ExecuteTime": {
     "end_time": "2025-02-04T18:32:30.892203Z",
     "start_time": "2025-02-04T18:32:30.888436Z"
    }
   },
   "cell_type": "code",
   "source": "arr = arr.reshape(3,2)",
   "id": "4272d6fbbdacf634",
   "outputs": [],
   "execution_count": 71
  },
  {
   "metadata": {
    "ExecuteTime": {
     "end_time": "2025-02-04T18:32:30.921663Z",
     "start_time": "2025-02-04T18:32:30.918194Z"
    }
   },
   "cell_type": "code",
   "source": "arr",
   "id": "cc84a92153607531",
   "outputs": [
    {
     "data": {
      "text/plain": [
       "array([[1, 2],\n",
       "       [3, 4],\n",
       "       [5, 6]])"
      ]
     },
     "execution_count": 72,
     "metadata": {},
     "output_type": "execute_result"
    }
   ],
   "execution_count": 72
  },
  {
   "metadata": {
    "ExecuteTime": {
     "end_time": "2025-02-04T18:32:31.006275Z",
     "start_time": "2025-02-04T18:32:31.000304Z"
    }
   },
   "cell_type": "code",
   "source": "arr.shape",
   "id": "ba256a9b8111f40c",
   "outputs": [
    {
     "data": {
      "text/plain": [
       "(3, 2)"
      ]
     },
     "execution_count": 73,
     "metadata": {},
     "output_type": "execute_result"
    }
   ],
   "execution_count": 73
  },
  {
   "metadata": {},
   "cell_type": "markdown",
   "source": "#Multidimension Array into Single Dimension Array\n",
   "id": "58a6a79505d305af"
  },
  {
   "metadata": {
    "ExecuteTime": {
     "end_time": "2025-02-04T18:32:31.043182Z",
     "start_time": "2025-02-04T18:32:31.038682Z"
    }
   },
   "cell_type": "code",
   "source": [
    "arr = np.array([[1,2,3],[4,5,6],[7,8,9]])\n",
    "arr"
   ],
   "id": "9009f268efaf8674",
   "outputs": [
    {
     "data": {
      "text/plain": [
       "array([[1, 2, 3],\n",
       "       [4, 5, 6],\n",
       "       [7, 8, 9]])"
      ]
     },
     "execution_count": 74,
     "metadata": {},
     "output_type": "execute_result"
    }
   ],
   "execution_count": 74
  },
  {
   "metadata": {
    "ExecuteTime": {
     "end_time": "2025-02-04T18:32:31.104533Z",
     "start_time": "2025-02-04T18:32:31.101377Z"
    }
   },
   "cell_type": "code",
   "source": "arr = arr.reshape(-1)",
   "id": "25d91a77ee667793",
   "outputs": [],
   "execution_count": 75
  },
  {
   "metadata": {
    "ExecuteTime": {
     "end_time": "2025-02-04T18:32:31.143595Z",
     "start_time": "2025-02-04T18:32:31.139151Z"
    }
   },
   "cell_type": "code",
   "source": "arr.shape",
   "id": "3c40c958625b6709",
   "outputs": [
    {
     "data": {
      "text/plain": [
       "(9,)"
      ]
     },
     "execution_count": 76,
     "metadata": {},
     "output_type": "execute_result"
    }
   ],
   "execution_count": 76
  },
  {
   "metadata": {},
   "cell_type": "markdown",
   "source": "#Transpose Array",
   "id": "549f8ebbe960e218"
  },
  {
   "metadata": {
    "ExecuteTime": {
     "end_time": "2025-02-04T18:32:31.210858Z",
     "start_time": "2025-02-04T18:32:31.206770Z"
    }
   },
   "cell_type": "code",
   "source": [
    "arr = np.array([[1,2,3,45],[54,4,5,6],[7,18,8,9]])\n",
    "arr"
   ],
   "id": "5be750d48f989adf",
   "outputs": [
    {
     "data": {
      "text/plain": [
       "array([[ 1,  2,  3, 45],\n",
       "       [54,  4,  5,  6],\n",
       "       [ 7, 18,  8,  9]])"
      ]
     },
     "execution_count": 77,
     "metadata": {},
     "output_type": "execute_result"
    }
   ],
   "execution_count": 77
  },
  {
   "metadata": {
    "ExecuteTime": {
     "end_time": "2025-02-04T18:32:31.255588Z",
     "start_time": "2025-02-04T18:32:31.252645Z"
    }
   },
   "cell_type": "code",
   "source": "arr = arr.T",
   "id": "aa50c3cdf63b5cb8",
   "outputs": [],
   "execution_count": 78
  },
  {
   "metadata": {
    "ExecuteTime": {
     "end_time": "2025-02-04T18:32:31.304869Z",
     "start_time": "2025-02-04T18:32:31.299820Z"
    }
   },
   "cell_type": "code",
   "source": "arr",
   "id": "e09da88af836ed9b",
   "outputs": [
    {
     "data": {
      "text/plain": [
       "array([[ 1, 54,  7],\n",
       "       [ 2,  4, 18],\n",
       "       [ 3,  5,  8],\n",
       "       [45,  6,  9]])"
      ]
     },
     "execution_count": 79,
     "metadata": {},
     "output_type": "execute_result"
    }
   ],
   "execution_count": 79
  },
  {
   "metadata": {},
   "cell_type": "markdown",
   "source": "#Array Multiplication",
   "id": "b90426c7bdefbe04"
  },
  {
   "metadata": {
    "ExecuteTime": {
     "end_time": "2025-02-04T18:34:21.041239Z",
     "start_time": "2025-02-04T18:34:21.036156Z"
    }
   },
   "cell_type": "code",
   "source": [
    "arr1 = np.array([[1,2,3],[4,5,6]])\n",
    "arr2 = np.array([[1,2],[3,4],[5,6]])"
   ],
   "id": "5bbc1d2839267586",
   "outputs": [],
   "execution_count": 81
  },
  {
   "metadata": {
    "ExecuteTime": {
     "end_time": "2025-02-04T18:34:34.472782Z",
     "start_time": "2025-02-04T18:34:34.458510Z"
    }
   },
   "cell_type": "code",
   "source": "arr1\n",
   "id": "830a97402641686f",
   "outputs": [
    {
     "data": {
      "text/plain": [
       "array([[1, 2, 3],\n",
       "       [4, 5, 6]])"
      ]
     },
     "execution_count": 83,
     "metadata": {},
     "output_type": "execute_result"
    }
   ],
   "execution_count": 83
  },
  {
   "metadata": {
    "ExecuteTime": {
     "end_time": "2025-02-04T18:34:38.469412Z",
     "start_time": "2025-02-04T18:34:38.458221Z"
    }
   },
   "cell_type": "code",
   "source": "arr2",
   "id": "9bfd05b848e03fd3",
   "outputs": [
    {
     "data": {
      "text/plain": [
       "array([[1, 2],\n",
       "       [3, 4],\n",
       "       [5, 6]])"
      ]
     },
     "execution_count": 84,
     "metadata": {},
     "output_type": "execute_result"
    }
   ],
   "execution_count": 84
  },
  {
   "metadata": {
    "ExecuteTime": {
     "end_time": "2025-02-04T18:35:04.837849Z",
     "start_time": "2025-02-04T18:35:04.832570Z"
    }
   },
   "cell_type": "code",
   "source": "arr3 = np.matmul(arr1,arr2)",
   "id": "81f9a7b5f0f7d4d0",
   "outputs": [],
   "execution_count": 85
  },
  {
   "metadata": {
    "ExecuteTime": {
     "end_time": "2025-02-04T18:35:07.419469Z",
     "start_time": "2025-02-04T18:35:07.410177Z"
    }
   },
   "cell_type": "code",
   "source": "arr3",
   "id": "ebd050aee87f97b4",
   "outputs": [
    {
     "data": {
      "text/plain": [
       "array([[22, 28],\n",
       "       [49, 64]])"
      ]
     },
     "execution_count": 86,
     "metadata": {},
     "output_type": "execute_result"
    }
   ],
   "execution_count": 86
  },
  {
   "metadata": {
    "ExecuteTime": {
     "end_time": "2025-02-04T18:35:49.695865Z",
     "start_time": "2025-02-04T18:35:49.691827Z"
    }
   },
   "cell_type": "code",
   "source": "arr = np.array([[1,2,3],[4,5,6],[7,8,9]])",
   "id": "a2cb31197ee71892",
   "outputs": [],
   "execution_count": 87
  },
  {
   "metadata": {
    "ExecuteTime": {
     "end_time": "2025-02-04T18:36:07.311771Z",
     "start_time": "2025-02-04T18:36:07.306575Z"
    }
   },
   "cell_type": "code",
   "source": "np.dot(arr,5)",
   "id": "c9506b5317efa2db",
   "outputs": [
    {
     "data": {
      "text/plain": [
       "array([[ 5, 10, 15],\n",
       "       [20, 25, 30],\n",
       "       [35, 40, 45]])"
      ]
     },
     "execution_count": 88,
     "metadata": {},
     "output_type": "execute_result"
    }
   ],
   "execution_count": 88
  },
  {
   "metadata": {},
   "cell_type": "code",
   "outputs": [],
   "execution_count": null,
   "source": "",
   "id": "64648ddb71a86934"
  }
 ],
 "metadata": {
  "kernelspec": {
   "display_name": "Python 3",
   "language": "python",
   "name": "python3"
  },
  "language_info": {
   "codemirror_mode": {
    "name": "ipython",
    "version": 2
   },
   "file_extension": ".py",
   "mimetype": "text/x-python",
   "name": "python",
   "nbconvert_exporter": "python",
   "pygments_lexer": "ipython2",
   "version": "2.7.6"
  }
 },
 "nbformat": 4,
 "nbformat_minor": 5
}
