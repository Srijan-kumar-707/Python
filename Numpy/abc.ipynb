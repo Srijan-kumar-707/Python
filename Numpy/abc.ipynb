{
 "cells": [
  {
   "cell_type": "code",
   "id": "initial_id",
   "metadata": {
    "collapsed": true,
    "ExecuteTime": {
     "end_time": "2025-02-01T16:09:27.288020Z",
     "start_time": "2025-02-01T16:09:27.280366Z"
    }
   },
   "source": "import numpy as np",
   "outputs": [],
   "execution_count": 10
  },
  {
   "metadata": {
    "ExecuteTime": {
     "end_time": "2025-02-01T16:09:27.314468Z",
     "start_time": "2025-02-01T16:09:27.304314Z"
    }
   },
   "cell_type": "code",
   "source": "print(7)",
   "id": "b2a76838f213d505",
   "outputs": [
    {
     "name": "stdout",
     "output_type": "stream",
     "text": [
      "7\n"
     ]
    }
   ],
   "execution_count": 11
  },
  {
   "metadata": {
    "ExecuteTime": {
     "end_time": "2025-02-01T16:09:27.351700Z",
     "start_time": "2025-02-01T16:09:27.345171Z"
    }
   },
   "cell_type": "code",
   "source": [
    "a = np.array([1,2,3,4,5])\n",
    "print(a)\n"
   ],
   "id": "41166373f828b3a6",
   "outputs": [
    {
     "name": "stdout",
     "output_type": "stream",
     "text": [
      "[1 2 3 4 5]\n"
     ]
    }
   ],
   "execution_count": 12
  },
  {
   "metadata": {
    "ExecuteTime": {
     "end_time": "2025-02-01T16:09:27.644397Z",
     "start_time": "2025-02-01T16:09:27.624624Z"
    }
   },
   "cell_type": "code",
   "source": [
    "arr = np.array([[1,2,3],[4,5,6],[7,8,9]])\n",
    "arr"
   ],
   "id": "4ec4d603633ef37c",
   "outputs": [
    {
     "data": {
      "text/plain": [
       "array([[1, 2, 3],\n",
       "       [4, 5, 6],\n",
       "       [7, 8, 9]])"
      ]
     },
     "execution_count": 13,
     "metadata": {},
     "output_type": "execute_result"
    }
   ],
   "execution_count": 13
  },
  {
   "metadata": {
    "ExecuteTime": {
     "end_time": "2025-02-01T16:10:12.438581Z",
     "start_time": "2025-02-01T16:10:12.427489Z"
    }
   },
   "cell_type": "code",
   "source": "arr.transpose()",
   "id": "83aaabd2272457cb",
   "outputs": [
    {
     "data": {
      "text/plain": [
       "array([[1, 4, 7],\n",
       "       [2, 5, 8],\n",
       "       [3, 6, 9]])"
      ]
     },
     "execution_count": 15,
     "metadata": {},
     "output_type": "execute_result"
    }
   ],
   "execution_count": 15
  },
  {
   "metadata": {
    "ExecuteTime": {
     "end_time": "2025-02-01T16:10:47.448930Z",
     "start_time": "2025-02-01T16:10:47.439701Z"
    }
   },
   "cell_type": "code",
   "source": "arr.sum(axis=0)",
   "id": "c5e42f047b054711",
   "outputs": [
    {
     "data": {
      "text/plain": [
       "array([12, 15, 18])"
      ]
     },
     "execution_count": 16,
     "metadata": {},
     "output_type": "execute_result"
    }
   ],
   "execution_count": 16
  },
  {
   "metadata": {
    "ExecuteTime": {
     "end_time": "2025-02-01T16:10:54.225143Z",
     "start_time": "2025-02-01T16:10:54.216777Z"
    }
   },
   "cell_type": "code",
   "source": "arr.sum(axis=1)",
   "id": "22944e30cf280f7e",
   "outputs": [
    {
     "data": {
      "text/plain": [
       "array([ 6, 15, 24])"
      ]
     },
     "execution_count": 17,
     "metadata": {},
     "output_type": "execute_result"
    }
   ],
   "execution_count": 17
  },
  {
   "metadata": {
    "ExecuteTime": {
     "end_time": "2025-02-01T16:11:05.826498Z",
     "start_time": "2025-02-01T16:11:05.819128Z"
    }
   },
   "cell_type": "code",
   "source": "arr",
   "id": "5f977b85edbcb1de",
   "outputs": [
    {
     "data": {
      "text/plain": [
       "array([[1, 2, 3],\n",
       "       [4, 5, 6],\n",
       "       [7, 8, 9]])"
      ]
     },
     "execution_count": 18,
     "metadata": {},
     "output_type": "execute_result"
    }
   ],
   "execution_count": 18
  },
  {
   "metadata": {
    "ExecuteTime": {
     "end_time": "2025-02-01T16:11:49.174958Z",
     "start_time": "2025-02-01T16:11:49.167952Z"
    }
   },
   "cell_type": "code",
   "source": "arr.T",
   "id": "bb179694330458f5",
   "outputs": [
    {
     "data": {
      "text/plain": [
       "array([[1, 4, 7],\n",
       "       [2, 5, 8],\n",
       "       [3, 6, 9]])"
      ]
     },
     "execution_count": 19,
     "metadata": {},
     "output_type": "execute_result"
    }
   ],
   "execution_count": 19
  },
  {
   "metadata": {
    "ExecuteTime": {
     "end_time": "2025-02-01T16:12:46.018526Z",
     "start_time": "2025-02-01T16:12:46.011575Z"
    }
   },
   "cell_type": "code",
   "source": "arr.size",
   "id": "ea53b966e212ca78",
   "outputs": [
    {
     "data": {
      "text/plain": [
       "9"
      ]
     },
     "execution_count": 20,
     "metadata": {},
     "output_type": "execute_result"
    }
   ],
   "execution_count": 20
  },
  {
   "metadata": {
    "ExecuteTime": {
     "end_time": "2025-02-01T16:14:06.415998Z",
     "start_time": "2025-02-01T16:14:06.407869Z"
    }
   },
   "cell_type": "code",
   "source": "arr.sort",
   "id": "6e3d816fa7000e06",
   "outputs": [
    {
     "data": {
      "text/plain": [
       "<function ndarray.sort>"
      ]
     },
     "execution_count": 21,
     "metadata": {},
     "output_type": "execute_result"
    }
   ],
   "execution_count": 21
  },
  {
   "metadata": {
    "ExecuteTime": {
     "end_time": "2025-02-01T16:14:18.532281Z",
     "start_time": "2025-02-01T16:14:18.522165Z"
    }
   },
   "cell_type": "code",
   "source": "arr",
   "id": "596f9387789df92",
   "outputs": [
    {
     "data": {
      "text/plain": [
       "array([[1, 2, 3],\n",
       "       [4, 5, 6],\n",
       "       [7, 8, 9]])"
      ]
     },
     "execution_count": 22,
     "metadata": {},
     "output_type": "execute_result"
    }
   ],
   "execution_count": 22
  },
  {
   "metadata": {
    "ExecuteTime": {
     "end_time": "2025-02-01T16:15:32.679293Z",
     "start_time": "2025-02-01T16:15:32.666158Z"
    }
   },
   "cell_type": "code",
   "source": "arr.max",
   "id": "9887e44eeae39e65",
   "outputs": [
    {
     "data": {
      "text/plain": [
       "<function ndarray.max>"
      ]
     },
     "execution_count": 27,
     "metadata": {},
     "output_type": "execute_result"
    }
   ],
   "execution_count": 27
  },
  {
   "metadata": {
    "ExecuteTime": {
     "end_time": "2025-02-01T16:17:50.426494Z",
     "start_time": "2025-02-01T16:17:50.415887Z"
    }
   },
   "cell_type": "code",
   "source": "arr.ravel()",
   "id": "bc9f928b3b81a45",
   "outputs": [
    {
     "data": {
      "text/plain": [
       "array([1, 2, 3, 4, 5, 6, 7, 8, 9])"
      ]
     },
     "execution_count": 29,
     "metadata": {},
     "output_type": "execute_result"
    }
   ],
   "execution_count": 29
  },
  {
   "metadata": {
    "ExecuteTime": {
     "end_time": "2025-02-01T16:18:21.026773Z",
     "start_time": "2025-02-01T16:18:21.018163Z"
    }
   },
   "cell_type": "code",
   "source": "arr.reshape(3,3)",
   "id": "dff5a4dbe7bb54e3",
   "outputs": [
    {
     "data": {
      "text/plain": [
       "array([[1, 2, 3],\n",
       "       [4, 5, 6],\n",
       "       [7, 8, 9]])"
      ]
     },
     "execution_count": 30,
     "metadata": {},
     "output_type": "execute_result"
    }
   ],
   "execution_count": 30
  },
  {
   "metadata": {
    "ExecuteTime": {
     "end_time": "2025-02-01T16:18:49.194152Z",
     "start_time": "2025-02-01T16:18:49.183035Z"
    }
   },
   "cell_type": "code",
   "source": "arr.reshape(9,1)",
   "id": "cb40f662ef8fb1df",
   "outputs": [
    {
     "data": {
      "text/plain": [
       "array([[1],\n",
       "       [2],\n",
       "       [3],\n",
       "       [4],\n",
       "       [5],\n",
       "       [6],\n",
       "       [7],\n",
       "       [8],\n",
       "       [9]])"
      ]
     },
     "execution_count": 31,
     "metadata": {},
     "output_type": "execute_result"
    }
   ],
   "execution_count": 31
  },
  {
   "metadata": {
    "ExecuteTime": {
     "end_time": "2025-02-01T16:19:38.685484Z",
     "start_time": "2025-02-01T16:19:38.674223Z"
    }
   },
   "cell_type": "code",
   "source": "arr",
   "id": "400e5167a477d2d6",
   "outputs": [
    {
     "data": {
      "text/plain": [
       "array([[1, 2, 3],\n",
       "       [4, 5, 6],\n",
       "       [7, 8, 9]])"
      ]
     },
     "execution_count": 32,
     "metadata": {},
     "output_type": "execute_result"
    }
   ],
   "execution_count": 32
  },
  {
   "metadata": {},
   "cell_type": "code",
   "outputs": [],
   "execution_count": null,
   "source": "",
   "id": "d8e0f72d2d3fdd10"
  }
 ],
 "metadata": {
  "kernelspec": {
   "display_name": "Python 3",
   "language": "python",
   "name": "python3"
  },
  "language_info": {
   "codemirror_mode": {
    "name": "ipython",
    "version": 2
   },
   "file_extension": ".py",
   "mimetype": "text/x-python",
   "name": "python",
   "nbconvert_exporter": "python",
   "pygments_lexer": "ipython2",
   "version": "2.7.6"
  }
 },
 "nbformat": 4,
 "nbformat_minor": 5
}
