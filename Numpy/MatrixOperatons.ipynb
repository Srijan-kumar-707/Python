{
 "cells": [
  {
   "cell_type": "code",
   "id": "initial_id",
   "metadata": {
    "collapsed": true,
    "ExecuteTime": {
     "end_time": "2025-02-01T16:24:03.247147Z",
     "start_time": "2025-02-01T16:24:03.230159Z"
    }
   },
   "source": "import numpy as np",
   "outputs": [],
   "execution_count": 8
  },
  {
   "metadata": {
    "ExecuteTime": {
     "end_time": "2025-02-01T16:24:03.278091Z",
     "start_time": "2025-02-01T16:24:03.266058Z"
    }
   },
   "cell_type": "code",
   "source": [
    "arr = np.array([[1,2,3],[4,5,6],[7,8,9]])\n",
    "arr"
   ],
   "id": "384bed5c5c4e333d",
   "outputs": [
    {
     "data": {
      "text/plain": [
       "array([[1, 2, 3],\n",
       "       [4, 5, 6],\n",
       "       [7, 8, 9]])"
      ]
     },
     "execution_count": 9,
     "metadata": {},
     "output_type": "execute_result"
    }
   ],
   "execution_count": 9
  },
  {
   "metadata": {
    "ExecuteTime": {
     "end_time": "2025-02-01T16:24:03.341834Z",
     "start_time": "2025-02-01T16:24:03.335047Z"
    }
   },
   "cell_type": "code",
   "source": [
    "arr1 = np.array([[10,20,30],[40,50,60],[70,80,90]])\n",
    "arr1"
   ],
   "id": "3e54ab5f75bce2eb",
   "outputs": [
    {
     "data": {
      "text/plain": [
       "array([[10, 20, 30],\n",
       "       [40, 50, 60],\n",
       "       [70, 80, 90]])"
      ]
     },
     "execution_count": 10,
     "metadata": {},
     "output_type": "execute_result"
    }
   ],
   "execution_count": 10
  },
  {
   "metadata": {
    "ExecuteTime": {
     "end_time": "2025-02-01T16:24:03.446402Z",
     "start_time": "2025-02-01T16:24:03.438912Z"
    }
   },
   "cell_type": "code",
   "source": "arr + arr1",
   "id": "82f69a87af6b3ec4",
   "outputs": [
    {
     "data": {
      "text/plain": [
       "array([[11, 22, 33],\n",
       "       [44, 55, 66],\n",
       "       [77, 88, 99]])"
      ]
     },
     "execution_count": 11,
     "metadata": {},
     "output_type": "execute_result"
    }
   ],
   "execution_count": 11
  },
  {
   "metadata": {
    "ExecuteTime": {
     "end_time": "2025-02-01T16:24:03.628395Z",
     "start_time": "2025-02-01T16:24:03.622469Z"
    }
   },
   "cell_type": "code",
   "source": "arr * arr1",
   "id": "1ad2d511f74bf381",
   "outputs": [
    {
     "data": {
      "text/plain": [
       "array([[ 10,  40,  90],\n",
       "       [160, 250, 360],\n",
       "       [490, 640, 810]])"
      ]
     },
     "execution_count": 12,
     "metadata": {},
     "output_type": "execute_result"
    }
   ],
   "execution_count": 12
  },
  {
   "metadata": {
    "ExecuteTime": {
     "end_time": "2025-02-01T16:24:24.610440Z",
     "start_time": "2025-02-01T16:24:24.598059Z"
    }
   },
   "cell_type": "code",
   "source": "np.sqrt(arr1)",
   "id": "7b6b670c2a36d02b",
   "outputs": [
    {
     "data": {
      "text/plain": [
       "array([[3.16227766, 4.47213595, 5.47722558],\n",
       "       [6.32455532, 7.07106781, 7.74596669],\n",
       "       [8.36660027, 8.94427191, 9.48683298]])"
      ]
     },
     "execution_count": 13,
     "metadata": {},
     "output_type": "execute_result"
    }
   ],
   "execution_count": 13
  },
  {
   "metadata": {
    "ExecuteTime": {
     "end_time": "2025-02-01T16:24:56.155146Z",
     "start_time": "2025-02-01T16:24:56.147070Z"
    }
   },
   "cell_type": "code",
   "source": "arr1.sum()",
   "id": "98a64c59bddf6797",
   "outputs": [
    {
     "data": {
      "text/plain": [
       "np.int64(450)"
      ]
     },
     "execution_count": 14,
     "metadata": {},
     "output_type": "execute_result"
    }
   ],
   "execution_count": 14
  },
  {
   "metadata": {
    "ExecuteTime": {
     "end_time": "2025-02-01T16:25:06.361619Z",
     "start_time": "2025-02-01T16:25:06.357072Z"
    }
   },
   "cell_type": "code",
   "source": "arr.max()",
   "id": "5147c06f96274104",
   "outputs": [
    {
     "data": {
      "text/plain": [
       "np.int64(9)"
      ]
     },
     "execution_count": 15,
     "metadata": {},
     "output_type": "execute_result"
    }
   ],
   "execution_count": 15
  },
  {
   "metadata": {
    "ExecuteTime": {
     "end_time": "2025-02-01T16:25:14.302931Z",
     "start_time": "2025-02-01T16:25:14.293300Z"
    }
   },
   "cell_type": "code",
   "source": "arr1.max()",
   "id": "54ced8d6aaa065ff",
   "outputs": [
    {
     "data": {
      "text/plain": [
       "np.int64(90)"
      ]
     },
     "execution_count": 16,
     "metadata": {},
     "output_type": "execute_result"
    }
   ],
   "execution_count": 16
  },
  {
   "metadata": {
    "ExecuteTime": {
     "end_time": "2025-02-01T16:25:21.325450Z",
     "start_time": "2025-02-01T16:25:21.314059Z"
    }
   },
   "cell_type": "code",
   "source": "arr1.min()",
   "id": "a50fbb6be8d39896",
   "outputs": [
    {
     "data": {
      "text/plain": [
       "np.int64(10)"
      ]
     },
     "execution_count": 17,
     "metadata": {},
     "output_type": "execute_result"
    }
   ],
   "execution_count": 17
  },
  {
   "metadata": {
    "ExecuteTime": {
     "end_time": "2025-02-01T16:26:18.416718Z",
     "start_time": "2025-02-01T16:26:18.409454Z"
    }
   },
   "cell_type": "code",
   "source": "np.count_nonzero(arr1)",
   "id": "be7443fb2281e948",
   "outputs": [
    {
     "data": {
      "text/plain": [
       "9"
      ]
     },
     "execution_count": 18,
     "metadata": {},
     "output_type": "execute_result"
    }
   ],
   "execution_count": 18
  },
  {
   "metadata": {},
   "cell_type": "code",
   "outputs": [],
   "execution_count": null,
   "source": "",
   "id": "dd5c57786d7b85eb"
  }
 ],
 "metadata": {
  "kernelspec": {
   "display_name": "Python 3",
   "language": "python",
   "name": "python3"
  },
  "language_info": {
   "codemirror_mode": {
    "name": "ipython",
    "version": 2
   },
   "file_extension": ".py",
   "mimetype": "text/x-python",
   "name": "python",
   "nbconvert_exporter": "python",
   "pygments_lexer": "ipython2",
   "version": "2.7.6"
  }
 },
 "nbformat": 4,
 "nbformat_minor": 5
}
