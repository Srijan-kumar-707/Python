{
 "cells": [
  {
   "cell_type": "code",
   "id": "initial_id",
   "metadata": {
    "collapsed": true,
    "ExecuteTime": {
     "end_time": "2025-02-04T15:33:07.358497Z",
     "start_time": "2025-02-04T15:33:07.348656Z"
    }
   },
   "source": [
    "import numpy as np\n",
    "import pandas as pd"
   ],
   "outputs": [],
   "execution_count": 35
  },
  {
   "metadata": {
    "ExecuteTime": {
     "end_time": "2025-02-04T15:33:07.380682Z",
     "start_time": "2025-02-04T15:33:07.373011Z"
    }
   },
   "cell_type": "code",
   "source": [
    "dict1 = {\n",
    "    \"Name\" : [\"Srijan<god\", \"Shubham<god\", \"Aniket\", \"Abhi\"],\n",
    "    \"marks\" : [97, 98, 96, 94],\n",
    "    \"Grade\" : [\"O\", \"A+\", \"A\", \"A\"]\n",
    "    }"
   ],
   "id": "2b5a165ef31ca68f",
   "outputs": [],
   "execution_count": 36
  },
  {
   "metadata": {
    "ExecuteTime": {
     "end_time": "2025-02-04T15:33:07.393878Z",
     "start_time": "2025-02-04T15:33:07.380682Z"
    }
   },
   "cell_type": "code",
   "source": [
    "df = pd.DataFrame(dict1)\n",
    "df"
   ],
   "id": "9c25b20b85c6bafc",
   "outputs": [
    {
     "data": {
      "text/plain": [
       "          Name  marks Grade\n",
       "0   Srijan<god     97     O\n",
       "1  Shubham<god     98    A+\n",
       "2       Aniket     96     A\n",
       "3         Abhi     94     A"
      ],
      "text/html": [
       "<div>\n",
       "<style scoped>\n",
       "    .dataframe tbody tr th:only-of-type {\n",
       "        vertical-align: middle;\n",
       "    }\n",
       "\n",
       "    .dataframe tbody tr th {\n",
       "        vertical-align: top;\n",
       "    }\n",
       "\n",
       "    .dataframe thead th {\n",
       "        text-align: right;\n",
       "    }\n",
       "</style>\n",
       "<table border=\"1\" class=\"dataframe\">\n",
       "  <thead>\n",
       "    <tr style=\"text-align: right;\">\n",
       "      <th></th>\n",
       "      <th>Name</th>\n",
       "      <th>marks</th>\n",
       "      <th>Grade</th>\n",
       "    </tr>\n",
       "  </thead>\n",
       "  <tbody>\n",
       "    <tr>\n",
       "      <th>0</th>\n",
       "      <td>Srijan&lt;god</td>\n",
       "      <td>97</td>\n",
       "      <td>O</td>\n",
       "    </tr>\n",
       "    <tr>\n",
       "      <th>1</th>\n",
       "      <td>Shubham&lt;god</td>\n",
       "      <td>98</td>\n",
       "      <td>A+</td>\n",
       "    </tr>\n",
       "    <tr>\n",
       "      <th>2</th>\n",
       "      <td>Aniket</td>\n",
       "      <td>96</td>\n",
       "      <td>A</td>\n",
       "    </tr>\n",
       "    <tr>\n",
       "      <th>3</th>\n",
       "      <td>Abhi</td>\n",
       "      <td>94</td>\n",
       "      <td>A</td>\n",
       "    </tr>\n",
       "  </tbody>\n",
       "</table>\n",
       "</div>"
      ]
     },
     "execution_count": 37,
     "metadata": {},
     "output_type": "execute_result"
    }
   ],
   "execution_count": 37
  },
  {
   "metadata": {
    "ExecuteTime": {
     "end_time": "2025-02-04T15:33:07.431602Z",
     "start_time": "2025-02-04T15:33:07.424963Z"
    }
   },
   "cell_type": "code",
   "source": "df.head(2)",
   "id": "da2b4ae9d051023f",
   "outputs": [
    {
     "data": {
      "text/plain": [
       "          Name  marks Grade\n",
       "0   Srijan<god     97     O\n",
       "1  Shubham<god     98    A+"
      ],
      "text/html": [
       "<div>\n",
       "<style scoped>\n",
       "    .dataframe tbody tr th:only-of-type {\n",
       "        vertical-align: middle;\n",
       "    }\n",
       "\n",
       "    .dataframe tbody tr th {\n",
       "        vertical-align: top;\n",
       "    }\n",
       "\n",
       "    .dataframe thead th {\n",
       "        text-align: right;\n",
       "    }\n",
       "</style>\n",
       "<table border=\"1\" class=\"dataframe\">\n",
       "  <thead>\n",
       "    <tr style=\"text-align: right;\">\n",
       "      <th></th>\n",
       "      <th>Name</th>\n",
       "      <th>marks</th>\n",
       "      <th>Grade</th>\n",
       "    </tr>\n",
       "  </thead>\n",
       "  <tbody>\n",
       "    <tr>\n",
       "      <th>0</th>\n",
       "      <td>Srijan&lt;god</td>\n",
       "      <td>97</td>\n",
       "      <td>O</td>\n",
       "    </tr>\n",
       "    <tr>\n",
       "      <th>1</th>\n",
       "      <td>Shubham&lt;god</td>\n",
       "      <td>98</td>\n",
       "      <td>A+</td>\n",
       "    </tr>\n",
       "  </tbody>\n",
       "</table>\n",
       "</div>"
      ]
     },
     "execution_count": 38,
     "metadata": {},
     "output_type": "execute_result"
    }
   ],
   "execution_count": 38
  },
  {
   "metadata": {
    "ExecuteTime": {
     "end_time": "2025-02-04T15:33:07.489997Z",
     "start_time": "2025-02-04T15:33:07.482487Z"
    }
   },
   "cell_type": "code",
   "source": "df.tail(2)",
   "id": "d9eb2be3f015b082",
   "outputs": [
    {
     "data": {
      "text/plain": [
       "     Name  marks Grade\n",
       "2  Aniket     96     A\n",
       "3    Abhi     94     A"
      ],
      "text/html": [
       "<div>\n",
       "<style scoped>\n",
       "    .dataframe tbody tr th:only-of-type {\n",
       "        vertical-align: middle;\n",
       "    }\n",
       "\n",
       "    .dataframe tbody tr th {\n",
       "        vertical-align: top;\n",
       "    }\n",
       "\n",
       "    .dataframe thead th {\n",
       "        text-align: right;\n",
       "    }\n",
       "</style>\n",
       "<table border=\"1\" class=\"dataframe\">\n",
       "  <thead>\n",
       "    <tr style=\"text-align: right;\">\n",
       "      <th></th>\n",
       "      <th>Name</th>\n",
       "      <th>marks</th>\n",
       "      <th>Grade</th>\n",
       "    </tr>\n",
       "  </thead>\n",
       "  <tbody>\n",
       "    <tr>\n",
       "      <th>2</th>\n",
       "      <td>Aniket</td>\n",
       "      <td>96</td>\n",
       "      <td>A</td>\n",
       "    </tr>\n",
       "    <tr>\n",
       "      <th>3</th>\n",
       "      <td>Abhi</td>\n",
       "      <td>94</td>\n",
       "      <td>A</td>\n",
       "    </tr>\n",
       "  </tbody>\n",
       "</table>\n",
       "</div>"
      ]
     },
     "execution_count": 39,
     "metadata": {},
     "output_type": "execute_result"
    }
   ],
   "execution_count": 39
  },
  {
   "metadata": {
    "ExecuteTime": {
     "end_time": "2025-02-04T15:33:07.562994Z",
     "start_time": "2025-02-04T15:33:07.555875Z"
    }
   },
   "cell_type": "code",
   "source": "df.describe()",
   "id": "e74c92f1b19f669",
   "outputs": [
    {
     "data": {
      "text/plain": [
       "           marks\n",
       "count   4.000000\n",
       "mean   96.250000\n",
       "std     1.707825\n",
       "min    94.000000\n",
       "25%    95.500000\n",
       "50%    96.500000\n",
       "75%    97.250000\n",
       "max    98.000000"
      ],
      "text/html": [
       "<div>\n",
       "<style scoped>\n",
       "    .dataframe tbody tr th:only-of-type {\n",
       "        vertical-align: middle;\n",
       "    }\n",
       "\n",
       "    .dataframe tbody tr th {\n",
       "        vertical-align: top;\n",
       "    }\n",
       "\n",
       "    .dataframe thead th {\n",
       "        text-align: right;\n",
       "    }\n",
       "</style>\n",
       "<table border=\"1\" class=\"dataframe\">\n",
       "  <thead>\n",
       "    <tr style=\"text-align: right;\">\n",
       "      <th></th>\n",
       "      <th>marks</th>\n",
       "    </tr>\n",
       "  </thead>\n",
       "  <tbody>\n",
       "    <tr>\n",
       "      <th>count</th>\n",
       "      <td>4.000000</td>\n",
       "    </tr>\n",
       "    <tr>\n",
       "      <th>mean</th>\n",
       "      <td>96.250000</td>\n",
       "    </tr>\n",
       "    <tr>\n",
       "      <th>std</th>\n",
       "      <td>1.707825</td>\n",
       "    </tr>\n",
       "    <tr>\n",
       "      <th>min</th>\n",
       "      <td>94.000000</td>\n",
       "    </tr>\n",
       "    <tr>\n",
       "      <th>25%</th>\n",
       "      <td>95.500000</td>\n",
       "    </tr>\n",
       "    <tr>\n",
       "      <th>50%</th>\n",
       "      <td>96.500000</td>\n",
       "    </tr>\n",
       "    <tr>\n",
       "      <th>75%</th>\n",
       "      <td>97.250000</td>\n",
       "    </tr>\n",
       "    <tr>\n",
       "      <th>max</th>\n",
       "      <td>98.000000</td>\n",
       "    </tr>\n",
       "  </tbody>\n",
       "</table>\n",
       "</div>"
      ]
     },
     "execution_count": 40,
     "metadata": {},
     "output_type": "execute_result"
    }
   ],
   "execution_count": 40
  },
  {
   "metadata": {
    "ExecuteTime": {
     "end_time": "2025-02-04T15:33:07.655363Z",
     "start_time": "2025-02-04T15:33:07.648718Z"
    }
   },
   "cell_type": "code",
   "source": "newdf = pd.DataFrame(np.random.randn(10,5))",
   "id": "2237174b17103b61",
   "outputs": [],
   "execution_count": 41
  },
  {
   "metadata": {
    "ExecuteTime": {
     "end_time": "2025-02-04T15:33:07.738468Z",
     "start_time": "2025-02-04T15:33:07.729711Z"
    }
   },
   "cell_type": "code",
   "source": "newdf",
   "id": "80d2946b028abad2",
   "outputs": [
    {
     "data": {
      "text/plain": [
       "          0         1         2         3         4\n",
       "0  0.759462  1.021719  0.752894 -1.092341 -0.753078\n",
       "1  0.804742  1.397170 -1.351503 -1.190643 -1.193891\n",
       "2 -0.243279  1.205147  1.082351 -0.543075  0.697838\n",
       "3  0.592207  0.762178 -1.619016 -0.920663  0.198993\n",
       "4 -1.261960 -0.350986 -1.599198 -0.356849 -0.588683\n",
       "5 -0.266196 -0.268285  0.577393 -0.870473  2.027108\n",
       "6 -0.610872 -0.279693  4.420992 -0.173247  1.351880\n",
       "7 -0.288044  0.915082 -0.711304  0.629757  0.879743\n",
       "8 -0.788963 -2.046013  0.871436  1.049264  0.366128\n",
       "9  0.159797  1.301803  0.699894  0.560153  0.868063"
      ],
      "text/html": [
       "<div>\n",
       "<style scoped>\n",
       "    .dataframe tbody tr th:only-of-type {\n",
       "        vertical-align: middle;\n",
       "    }\n",
       "\n",
       "    .dataframe tbody tr th {\n",
       "        vertical-align: top;\n",
       "    }\n",
       "\n",
       "    .dataframe thead th {\n",
       "        text-align: right;\n",
       "    }\n",
       "</style>\n",
       "<table border=\"1\" class=\"dataframe\">\n",
       "  <thead>\n",
       "    <tr style=\"text-align: right;\">\n",
       "      <th></th>\n",
       "      <th>0</th>\n",
       "      <th>1</th>\n",
       "      <th>2</th>\n",
       "      <th>3</th>\n",
       "      <th>4</th>\n",
       "    </tr>\n",
       "  </thead>\n",
       "  <tbody>\n",
       "    <tr>\n",
       "      <th>0</th>\n",
       "      <td>0.759462</td>\n",
       "      <td>1.021719</td>\n",
       "      <td>0.752894</td>\n",
       "      <td>-1.092341</td>\n",
       "      <td>-0.753078</td>\n",
       "    </tr>\n",
       "    <tr>\n",
       "      <th>1</th>\n",
       "      <td>0.804742</td>\n",
       "      <td>1.397170</td>\n",
       "      <td>-1.351503</td>\n",
       "      <td>-1.190643</td>\n",
       "      <td>-1.193891</td>\n",
       "    </tr>\n",
       "    <tr>\n",
       "      <th>2</th>\n",
       "      <td>-0.243279</td>\n",
       "      <td>1.205147</td>\n",
       "      <td>1.082351</td>\n",
       "      <td>-0.543075</td>\n",
       "      <td>0.697838</td>\n",
       "    </tr>\n",
       "    <tr>\n",
       "      <th>3</th>\n",
       "      <td>0.592207</td>\n",
       "      <td>0.762178</td>\n",
       "      <td>-1.619016</td>\n",
       "      <td>-0.920663</td>\n",
       "      <td>0.198993</td>\n",
       "    </tr>\n",
       "    <tr>\n",
       "      <th>4</th>\n",
       "      <td>-1.261960</td>\n",
       "      <td>-0.350986</td>\n",
       "      <td>-1.599198</td>\n",
       "      <td>-0.356849</td>\n",
       "      <td>-0.588683</td>\n",
       "    </tr>\n",
       "    <tr>\n",
       "      <th>5</th>\n",
       "      <td>-0.266196</td>\n",
       "      <td>-0.268285</td>\n",
       "      <td>0.577393</td>\n",
       "      <td>-0.870473</td>\n",
       "      <td>2.027108</td>\n",
       "    </tr>\n",
       "    <tr>\n",
       "      <th>6</th>\n",
       "      <td>-0.610872</td>\n",
       "      <td>-0.279693</td>\n",
       "      <td>4.420992</td>\n",
       "      <td>-0.173247</td>\n",
       "      <td>1.351880</td>\n",
       "    </tr>\n",
       "    <tr>\n",
       "      <th>7</th>\n",
       "      <td>-0.288044</td>\n",
       "      <td>0.915082</td>\n",
       "      <td>-0.711304</td>\n",
       "      <td>0.629757</td>\n",
       "      <td>0.879743</td>\n",
       "    </tr>\n",
       "    <tr>\n",
       "      <th>8</th>\n",
       "      <td>-0.788963</td>\n",
       "      <td>-2.046013</td>\n",
       "      <td>0.871436</td>\n",
       "      <td>1.049264</td>\n",
       "      <td>0.366128</td>\n",
       "    </tr>\n",
       "    <tr>\n",
       "      <th>9</th>\n",
       "      <td>0.159797</td>\n",
       "      <td>1.301803</td>\n",
       "      <td>0.699894</td>\n",
       "      <td>0.560153</td>\n",
       "      <td>0.868063</td>\n",
       "    </tr>\n",
       "  </tbody>\n",
       "</table>\n",
       "</div>"
      ]
     },
     "execution_count": 42,
     "metadata": {},
     "output_type": "execute_result"
    }
   ],
   "execution_count": 42
  },
  {
   "metadata": {
    "ExecuteTime": {
     "end_time": "2025-02-04T15:33:07.807134Z",
     "start_time": "2025-02-04T15:33:07.801853Z"
    }
   },
   "cell_type": "code",
   "source": [
    "type(newdf)\n",
    "#type(newdf[3])"
   ],
   "id": "3fc33ea10aa94cfc",
   "outputs": [
    {
     "data": {
      "text/plain": [
       "pandas.core.frame.DataFrame"
      ]
     },
     "execution_count": 43,
     "metadata": {},
     "output_type": "execute_result"
    }
   ],
   "execution_count": 43
  },
  {
   "metadata": {
    "ExecuteTime": {
     "end_time": "2025-02-04T15:33:07.865985Z",
     "start_time": "2025-02-04T15:33:07.853561Z"
    }
   },
   "cell_type": "code",
   "source": "newdf.dtypes",
   "id": "98a2656074e8d317",
   "outputs": [
    {
     "data": {
      "text/plain": [
       "0    float64\n",
       "1    float64\n",
       "2    float64\n",
       "3    float64\n",
       "4    float64\n",
       "dtype: object"
      ]
     },
     "execution_count": 44,
     "metadata": {},
     "output_type": "execute_result"
    }
   ],
   "execution_count": 44
  },
  {
   "metadata": {
    "ExecuteTime": {
     "end_time": "2025-02-04T15:33:07.945673Z",
     "start_time": "2025-02-04T15:33:07.936393Z"
    }
   },
   "cell_type": "code",
   "source": "newdf.describe()",
   "id": "bce24290612ab4d",
   "outputs": [
    {
     "data": {
      "text/plain": [
       "               0          1          2          3          4\n",
       "count  10.000000  10.000000  10.000000  10.000000  10.000000\n",
       "mean   -0.114311   0.365812   0.312394  -0.290812   0.385410\n",
       "std     0.688892   1.089482   1.807435   0.791207   0.998805\n",
       "min    -1.261960  -2.046013  -1.619016  -1.190643  -1.193891\n",
       "25%    -0.530165  -0.276841  -1.191453  -0.908116  -0.391764\n",
       "50%    -0.254738   0.838630   0.638643  -0.449962   0.531983\n",
       "75%     0.484105   1.159290   0.841800   0.376803   0.876823\n",
       "max     0.804742   1.397170   4.420992   1.049264   2.027108"
      ],
      "text/html": [
       "<div>\n",
       "<style scoped>\n",
       "    .dataframe tbody tr th:only-of-type {\n",
       "        vertical-align: middle;\n",
       "    }\n",
       "\n",
       "    .dataframe tbody tr th {\n",
       "        vertical-align: top;\n",
       "    }\n",
       "\n",
       "    .dataframe thead th {\n",
       "        text-align: right;\n",
       "    }\n",
       "</style>\n",
       "<table border=\"1\" class=\"dataframe\">\n",
       "  <thead>\n",
       "    <tr style=\"text-align: right;\">\n",
       "      <th></th>\n",
       "      <th>0</th>\n",
       "      <th>1</th>\n",
       "      <th>2</th>\n",
       "      <th>3</th>\n",
       "      <th>4</th>\n",
       "    </tr>\n",
       "  </thead>\n",
       "  <tbody>\n",
       "    <tr>\n",
       "      <th>count</th>\n",
       "      <td>10.000000</td>\n",
       "      <td>10.000000</td>\n",
       "      <td>10.000000</td>\n",
       "      <td>10.000000</td>\n",
       "      <td>10.000000</td>\n",
       "    </tr>\n",
       "    <tr>\n",
       "      <th>mean</th>\n",
       "      <td>-0.114311</td>\n",
       "      <td>0.365812</td>\n",
       "      <td>0.312394</td>\n",
       "      <td>-0.290812</td>\n",
       "      <td>0.385410</td>\n",
       "    </tr>\n",
       "    <tr>\n",
       "      <th>std</th>\n",
       "      <td>0.688892</td>\n",
       "      <td>1.089482</td>\n",
       "      <td>1.807435</td>\n",
       "      <td>0.791207</td>\n",
       "      <td>0.998805</td>\n",
       "    </tr>\n",
       "    <tr>\n",
       "      <th>min</th>\n",
       "      <td>-1.261960</td>\n",
       "      <td>-2.046013</td>\n",
       "      <td>-1.619016</td>\n",
       "      <td>-1.190643</td>\n",
       "      <td>-1.193891</td>\n",
       "    </tr>\n",
       "    <tr>\n",
       "      <th>25%</th>\n",
       "      <td>-0.530165</td>\n",
       "      <td>-0.276841</td>\n",
       "      <td>-1.191453</td>\n",
       "      <td>-0.908116</td>\n",
       "      <td>-0.391764</td>\n",
       "    </tr>\n",
       "    <tr>\n",
       "      <th>50%</th>\n",
       "      <td>-0.254738</td>\n",
       "      <td>0.838630</td>\n",
       "      <td>0.638643</td>\n",
       "      <td>-0.449962</td>\n",
       "      <td>0.531983</td>\n",
       "    </tr>\n",
       "    <tr>\n",
       "      <th>75%</th>\n",
       "      <td>0.484105</td>\n",
       "      <td>1.159290</td>\n",
       "      <td>0.841800</td>\n",
       "      <td>0.376803</td>\n",
       "      <td>0.876823</td>\n",
       "    </tr>\n",
       "    <tr>\n",
       "      <th>max</th>\n",
       "      <td>0.804742</td>\n",
       "      <td>1.397170</td>\n",
       "      <td>4.420992</td>\n",
       "      <td>1.049264</td>\n",
       "      <td>2.027108</td>\n",
       "    </tr>\n",
       "  </tbody>\n",
       "</table>\n",
       "</div>"
      ]
     },
     "execution_count": 45,
     "metadata": {},
     "output_type": "execute_result"
    }
   ],
   "execution_count": 45
  },
  {
   "metadata": {
    "ExecuteTime": {
     "end_time": "2025-02-04T15:33:08.019195Z",
     "start_time": "2025-02-04T15:33:08.014675Z"
    }
   },
   "cell_type": "code",
   "source": "newdf.index",
   "id": "439ba4cd310fd72e",
   "outputs": [
    {
     "data": {
      "text/plain": [
       "RangeIndex(start=0, stop=10, step=1)"
      ]
     },
     "execution_count": 46,
     "metadata": {},
     "output_type": "execute_result"
    }
   ],
   "execution_count": 46
  },
  {
   "metadata": {
    "ExecuteTime": {
     "end_time": "2025-02-04T15:33:08.063205Z",
     "start_time": "2025-02-04T15:33:08.058057Z"
    }
   },
   "cell_type": "code",
   "source": "newdf.to_numpy()",
   "id": "4467fa7c16cebdef",
   "outputs": [
    {
     "data": {
      "text/plain": [
       "array([[ 0.75946221,  1.0217189 ,  0.75289375, -1.09234121, -0.7530784 ],\n",
       "       [ 0.80474154,  1.39716998, -1.35150251, -1.19064313, -1.19389082],\n",
       "       [-0.24327872,  1.20514728,  1.08235131, -0.54307529,  0.69783797],\n",
       "       [ 0.59220732,  0.76217808, -1.61901632, -0.92066292,  0.19899278],\n",
       "       [-1.2619596 , -0.35098634, -1.59919777, -0.35684938, -0.58868296],\n",
       "       [-0.26619631, -0.26828476,  0.57739327, -0.87047344,  2.02710835],\n",
       "       [-0.61087191, -0.27969306,  4.42099222, -0.173247  ,  1.35188007],\n",
       "       [-0.28804405,  0.91508237, -0.71130431,  0.62975693,  0.87974281],\n",
       "       [-0.78896252, -2.04601311,  0.87143583,  1.04926435,  0.3661281 ],\n",
       "       [ 0.15979659,  1.30180314,  0.69989367,  0.56015286,  0.86806267]])"
      ]
     },
     "execution_count": 47,
     "metadata": {},
     "output_type": "execute_result"
    }
   ],
   "execution_count": 47
  },
  {
   "metadata": {
    "ExecuteTime": {
     "end_time": "2025-02-04T15:33:08.146233Z",
     "start_time": "2025-02-04T15:33:08.139379Z"
    }
   },
   "cell_type": "code",
   "source": "newdf.T",
   "id": "734c8b4482c64c26",
   "outputs": [
    {
     "data": {
      "text/plain": [
       "          0         1         2         3         4         5         6  \\\n",
       "0  0.759462  0.804742 -0.243279  0.592207 -1.261960 -0.266196 -0.610872   \n",
       "1  1.021719  1.397170  1.205147  0.762178 -0.350986 -0.268285 -0.279693   \n",
       "2  0.752894 -1.351503  1.082351 -1.619016 -1.599198  0.577393  4.420992   \n",
       "3 -1.092341 -1.190643 -0.543075 -0.920663 -0.356849 -0.870473 -0.173247   \n",
       "4 -0.753078 -1.193891  0.697838  0.198993 -0.588683  2.027108  1.351880   \n",
       "\n",
       "          7         8         9  \n",
       "0 -0.288044 -0.788963  0.159797  \n",
       "1  0.915082 -2.046013  1.301803  \n",
       "2 -0.711304  0.871436  0.699894  \n",
       "3  0.629757  1.049264  0.560153  \n",
       "4  0.879743  0.366128  0.868063  "
      ],
      "text/html": [
       "<div>\n",
       "<style scoped>\n",
       "    .dataframe tbody tr th:only-of-type {\n",
       "        vertical-align: middle;\n",
       "    }\n",
       "\n",
       "    .dataframe tbody tr th {\n",
       "        vertical-align: top;\n",
       "    }\n",
       "\n",
       "    .dataframe thead th {\n",
       "        text-align: right;\n",
       "    }\n",
       "</style>\n",
       "<table border=\"1\" class=\"dataframe\">\n",
       "  <thead>\n",
       "    <tr style=\"text-align: right;\">\n",
       "      <th></th>\n",
       "      <th>0</th>\n",
       "      <th>1</th>\n",
       "      <th>2</th>\n",
       "      <th>3</th>\n",
       "      <th>4</th>\n",
       "      <th>5</th>\n",
       "      <th>6</th>\n",
       "      <th>7</th>\n",
       "      <th>8</th>\n",
       "      <th>9</th>\n",
       "    </tr>\n",
       "  </thead>\n",
       "  <tbody>\n",
       "    <tr>\n",
       "      <th>0</th>\n",
       "      <td>0.759462</td>\n",
       "      <td>0.804742</td>\n",
       "      <td>-0.243279</td>\n",
       "      <td>0.592207</td>\n",
       "      <td>-1.261960</td>\n",
       "      <td>-0.266196</td>\n",
       "      <td>-0.610872</td>\n",
       "      <td>-0.288044</td>\n",
       "      <td>-0.788963</td>\n",
       "      <td>0.159797</td>\n",
       "    </tr>\n",
       "    <tr>\n",
       "      <th>1</th>\n",
       "      <td>1.021719</td>\n",
       "      <td>1.397170</td>\n",
       "      <td>1.205147</td>\n",
       "      <td>0.762178</td>\n",
       "      <td>-0.350986</td>\n",
       "      <td>-0.268285</td>\n",
       "      <td>-0.279693</td>\n",
       "      <td>0.915082</td>\n",
       "      <td>-2.046013</td>\n",
       "      <td>1.301803</td>\n",
       "    </tr>\n",
       "    <tr>\n",
       "      <th>2</th>\n",
       "      <td>0.752894</td>\n",
       "      <td>-1.351503</td>\n",
       "      <td>1.082351</td>\n",
       "      <td>-1.619016</td>\n",
       "      <td>-1.599198</td>\n",
       "      <td>0.577393</td>\n",
       "      <td>4.420992</td>\n",
       "      <td>-0.711304</td>\n",
       "      <td>0.871436</td>\n",
       "      <td>0.699894</td>\n",
       "    </tr>\n",
       "    <tr>\n",
       "      <th>3</th>\n",
       "      <td>-1.092341</td>\n",
       "      <td>-1.190643</td>\n",
       "      <td>-0.543075</td>\n",
       "      <td>-0.920663</td>\n",
       "      <td>-0.356849</td>\n",
       "      <td>-0.870473</td>\n",
       "      <td>-0.173247</td>\n",
       "      <td>0.629757</td>\n",
       "      <td>1.049264</td>\n",
       "      <td>0.560153</td>\n",
       "    </tr>\n",
       "    <tr>\n",
       "      <th>4</th>\n",
       "      <td>-0.753078</td>\n",
       "      <td>-1.193891</td>\n",
       "      <td>0.697838</td>\n",
       "      <td>0.198993</td>\n",
       "      <td>-0.588683</td>\n",
       "      <td>2.027108</td>\n",
       "      <td>1.351880</td>\n",
       "      <td>0.879743</td>\n",
       "      <td>0.366128</td>\n",
       "      <td>0.868063</td>\n",
       "    </tr>\n",
       "  </tbody>\n",
       "</table>\n",
       "</div>"
      ]
     },
     "execution_count": 48,
     "metadata": {},
     "output_type": "execute_result"
    }
   ],
   "execution_count": 48
  },
  {
   "metadata": {
    "ExecuteTime": {
     "end_time": "2025-02-04T15:33:08.216929Z",
     "start_time": "2025-02-04T15:33:08.210085Z"
    }
   },
   "cell_type": "code",
   "source": "newdf.sort_index(axis=0, ascending=False)",
   "id": "5475f454a2cd845e",
   "outputs": [
    {
     "data": {
      "text/plain": [
       "          0         1         2         3         4\n",
       "9  0.159797  1.301803  0.699894  0.560153  0.868063\n",
       "8 -0.788963 -2.046013  0.871436  1.049264  0.366128\n",
       "7 -0.288044  0.915082 -0.711304  0.629757  0.879743\n",
       "6 -0.610872 -0.279693  4.420992 -0.173247  1.351880\n",
       "5 -0.266196 -0.268285  0.577393 -0.870473  2.027108\n",
       "4 -1.261960 -0.350986 -1.599198 -0.356849 -0.588683\n",
       "3  0.592207  0.762178 -1.619016 -0.920663  0.198993\n",
       "2 -0.243279  1.205147  1.082351 -0.543075  0.697838\n",
       "1  0.804742  1.397170 -1.351503 -1.190643 -1.193891\n",
       "0  0.759462  1.021719  0.752894 -1.092341 -0.753078"
      ],
      "text/html": [
       "<div>\n",
       "<style scoped>\n",
       "    .dataframe tbody tr th:only-of-type {\n",
       "        vertical-align: middle;\n",
       "    }\n",
       "\n",
       "    .dataframe tbody tr th {\n",
       "        vertical-align: top;\n",
       "    }\n",
       "\n",
       "    .dataframe thead th {\n",
       "        text-align: right;\n",
       "    }\n",
       "</style>\n",
       "<table border=\"1\" class=\"dataframe\">\n",
       "  <thead>\n",
       "    <tr style=\"text-align: right;\">\n",
       "      <th></th>\n",
       "      <th>0</th>\n",
       "      <th>1</th>\n",
       "      <th>2</th>\n",
       "      <th>3</th>\n",
       "      <th>4</th>\n",
       "    </tr>\n",
       "  </thead>\n",
       "  <tbody>\n",
       "    <tr>\n",
       "      <th>9</th>\n",
       "      <td>0.159797</td>\n",
       "      <td>1.301803</td>\n",
       "      <td>0.699894</td>\n",
       "      <td>0.560153</td>\n",
       "      <td>0.868063</td>\n",
       "    </tr>\n",
       "    <tr>\n",
       "      <th>8</th>\n",
       "      <td>-0.788963</td>\n",
       "      <td>-2.046013</td>\n",
       "      <td>0.871436</td>\n",
       "      <td>1.049264</td>\n",
       "      <td>0.366128</td>\n",
       "    </tr>\n",
       "    <tr>\n",
       "      <th>7</th>\n",
       "      <td>-0.288044</td>\n",
       "      <td>0.915082</td>\n",
       "      <td>-0.711304</td>\n",
       "      <td>0.629757</td>\n",
       "      <td>0.879743</td>\n",
       "    </tr>\n",
       "    <tr>\n",
       "      <th>6</th>\n",
       "      <td>-0.610872</td>\n",
       "      <td>-0.279693</td>\n",
       "      <td>4.420992</td>\n",
       "      <td>-0.173247</td>\n",
       "      <td>1.351880</td>\n",
       "    </tr>\n",
       "    <tr>\n",
       "      <th>5</th>\n",
       "      <td>-0.266196</td>\n",
       "      <td>-0.268285</td>\n",
       "      <td>0.577393</td>\n",
       "      <td>-0.870473</td>\n",
       "      <td>2.027108</td>\n",
       "    </tr>\n",
       "    <tr>\n",
       "      <th>4</th>\n",
       "      <td>-1.261960</td>\n",
       "      <td>-0.350986</td>\n",
       "      <td>-1.599198</td>\n",
       "      <td>-0.356849</td>\n",
       "      <td>-0.588683</td>\n",
       "    </tr>\n",
       "    <tr>\n",
       "      <th>3</th>\n",
       "      <td>0.592207</td>\n",
       "      <td>0.762178</td>\n",
       "      <td>-1.619016</td>\n",
       "      <td>-0.920663</td>\n",
       "      <td>0.198993</td>\n",
       "    </tr>\n",
       "    <tr>\n",
       "      <th>2</th>\n",
       "      <td>-0.243279</td>\n",
       "      <td>1.205147</td>\n",
       "      <td>1.082351</td>\n",
       "      <td>-0.543075</td>\n",
       "      <td>0.697838</td>\n",
       "    </tr>\n",
       "    <tr>\n",
       "      <th>1</th>\n",
       "      <td>0.804742</td>\n",
       "      <td>1.397170</td>\n",
       "      <td>-1.351503</td>\n",
       "      <td>-1.190643</td>\n",
       "      <td>-1.193891</td>\n",
       "    </tr>\n",
       "    <tr>\n",
       "      <th>0</th>\n",
       "      <td>0.759462</td>\n",
       "      <td>1.021719</td>\n",
       "      <td>0.752894</td>\n",
       "      <td>-1.092341</td>\n",
       "      <td>-0.753078</td>\n",
       "    </tr>\n",
       "  </tbody>\n",
       "</table>\n",
       "</div>"
      ]
     },
     "execution_count": 49,
     "metadata": {},
     "output_type": "execute_result"
    }
   ],
   "execution_count": 49
  },
  {
   "metadata": {
    "ExecuteTime": {
     "end_time": "2025-02-04T15:33:08.300421Z",
     "start_time": "2025-02-04T15:33:08.296304Z"
    }
   },
   "cell_type": "code",
   "source": "newdf.loc[0,0] = 45",
   "id": "961ac5c61c281779",
   "outputs": [],
   "execution_count": 50
  },
  {
   "metadata": {
    "ExecuteTime": {
     "end_time": "2025-02-04T15:33:08.369696Z",
     "start_time": "2025-02-04T15:33:08.362853Z"
    }
   },
   "cell_type": "code",
   "source": "newdf\n",
   "id": "f708bd020ab24dd1",
   "outputs": [
    {
     "data": {
      "text/plain": [
       "           0         1         2         3         4\n",
       "0  45.000000  1.021719  0.752894 -1.092341 -0.753078\n",
       "1   0.804742  1.397170 -1.351503 -1.190643 -1.193891\n",
       "2  -0.243279  1.205147  1.082351 -0.543075  0.697838\n",
       "3   0.592207  0.762178 -1.619016 -0.920663  0.198993\n",
       "4  -1.261960 -0.350986 -1.599198 -0.356849 -0.588683\n",
       "5  -0.266196 -0.268285  0.577393 -0.870473  2.027108\n",
       "6  -0.610872 -0.279693  4.420992 -0.173247  1.351880\n",
       "7  -0.288044  0.915082 -0.711304  0.629757  0.879743\n",
       "8  -0.788963 -2.046013  0.871436  1.049264  0.366128\n",
       "9   0.159797  1.301803  0.699894  0.560153  0.868063"
      ],
      "text/html": [
       "<div>\n",
       "<style scoped>\n",
       "    .dataframe tbody tr th:only-of-type {\n",
       "        vertical-align: middle;\n",
       "    }\n",
       "\n",
       "    .dataframe tbody tr th {\n",
       "        vertical-align: top;\n",
       "    }\n",
       "\n",
       "    .dataframe thead th {\n",
       "        text-align: right;\n",
       "    }\n",
       "</style>\n",
       "<table border=\"1\" class=\"dataframe\">\n",
       "  <thead>\n",
       "    <tr style=\"text-align: right;\">\n",
       "      <th></th>\n",
       "      <th>0</th>\n",
       "      <th>1</th>\n",
       "      <th>2</th>\n",
       "      <th>3</th>\n",
       "      <th>4</th>\n",
       "    </tr>\n",
       "  </thead>\n",
       "  <tbody>\n",
       "    <tr>\n",
       "      <th>0</th>\n",
       "      <td>45.000000</td>\n",
       "      <td>1.021719</td>\n",
       "      <td>0.752894</td>\n",
       "      <td>-1.092341</td>\n",
       "      <td>-0.753078</td>\n",
       "    </tr>\n",
       "    <tr>\n",
       "      <th>1</th>\n",
       "      <td>0.804742</td>\n",
       "      <td>1.397170</td>\n",
       "      <td>-1.351503</td>\n",
       "      <td>-1.190643</td>\n",
       "      <td>-1.193891</td>\n",
       "    </tr>\n",
       "    <tr>\n",
       "      <th>2</th>\n",
       "      <td>-0.243279</td>\n",
       "      <td>1.205147</td>\n",
       "      <td>1.082351</td>\n",
       "      <td>-0.543075</td>\n",
       "      <td>0.697838</td>\n",
       "    </tr>\n",
       "    <tr>\n",
       "      <th>3</th>\n",
       "      <td>0.592207</td>\n",
       "      <td>0.762178</td>\n",
       "      <td>-1.619016</td>\n",
       "      <td>-0.920663</td>\n",
       "      <td>0.198993</td>\n",
       "    </tr>\n",
       "    <tr>\n",
       "      <th>4</th>\n",
       "      <td>-1.261960</td>\n",
       "      <td>-0.350986</td>\n",
       "      <td>-1.599198</td>\n",
       "      <td>-0.356849</td>\n",
       "      <td>-0.588683</td>\n",
       "    </tr>\n",
       "    <tr>\n",
       "      <th>5</th>\n",
       "      <td>-0.266196</td>\n",
       "      <td>-0.268285</td>\n",
       "      <td>0.577393</td>\n",
       "      <td>-0.870473</td>\n",
       "      <td>2.027108</td>\n",
       "    </tr>\n",
       "    <tr>\n",
       "      <th>6</th>\n",
       "      <td>-0.610872</td>\n",
       "      <td>-0.279693</td>\n",
       "      <td>4.420992</td>\n",
       "      <td>-0.173247</td>\n",
       "      <td>1.351880</td>\n",
       "    </tr>\n",
       "    <tr>\n",
       "      <th>7</th>\n",
       "      <td>-0.288044</td>\n",
       "      <td>0.915082</td>\n",
       "      <td>-0.711304</td>\n",
       "      <td>0.629757</td>\n",
       "      <td>0.879743</td>\n",
       "    </tr>\n",
       "    <tr>\n",
       "      <th>8</th>\n",
       "      <td>-0.788963</td>\n",
       "      <td>-2.046013</td>\n",
       "      <td>0.871436</td>\n",
       "      <td>1.049264</td>\n",
       "      <td>0.366128</td>\n",
       "    </tr>\n",
       "    <tr>\n",
       "      <th>9</th>\n",
       "      <td>0.159797</td>\n",
       "      <td>1.301803</td>\n",
       "      <td>0.699894</td>\n",
       "      <td>0.560153</td>\n",
       "      <td>0.868063</td>\n",
       "    </tr>\n",
       "  </tbody>\n",
       "</table>\n",
       "</div>"
      ]
     },
     "execution_count": 51,
     "metadata": {},
     "output_type": "execute_result"
    }
   ],
   "execution_count": 51
  },
  {
   "metadata": {
    "ExecuteTime": {
     "end_time": "2025-02-04T15:33:08.456161Z",
     "start_time": "2025-02-04T15:33:08.452551Z"
    }
   },
   "cell_type": "code",
   "source": "newdf.loc[0,\"A\"] = \"Srijan<god\"",
   "id": "54545be47b22b6b0",
   "outputs": [],
   "execution_count": 52
  },
  {
   "metadata": {
    "ExecuteTime": {
     "end_time": "2025-02-04T15:33:08.523977Z",
     "start_time": "2025-02-04T15:33:08.515027Z"
    }
   },
   "cell_type": "code",
   "source": "newdf",
   "id": "6af36c7ee2711506",
   "outputs": [
    {
     "data": {
      "text/plain": [
       "           0         1         2         3         4           A\n",
       "0  45.000000  1.021719  0.752894 -1.092341 -0.753078  Srijan<god\n",
       "1   0.804742  1.397170 -1.351503 -1.190643 -1.193891         NaN\n",
       "2  -0.243279  1.205147  1.082351 -0.543075  0.697838         NaN\n",
       "3   0.592207  0.762178 -1.619016 -0.920663  0.198993         NaN\n",
       "4  -1.261960 -0.350986 -1.599198 -0.356849 -0.588683         NaN\n",
       "5  -0.266196 -0.268285  0.577393 -0.870473  2.027108         NaN\n",
       "6  -0.610872 -0.279693  4.420992 -0.173247  1.351880         NaN\n",
       "7  -0.288044  0.915082 -0.711304  0.629757  0.879743         NaN\n",
       "8  -0.788963 -2.046013  0.871436  1.049264  0.366128         NaN\n",
       "9   0.159797  1.301803  0.699894  0.560153  0.868063         NaN"
      ],
      "text/html": [
       "<div>\n",
       "<style scoped>\n",
       "    .dataframe tbody tr th:only-of-type {\n",
       "        vertical-align: middle;\n",
       "    }\n",
       "\n",
       "    .dataframe tbody tr th {\n",
       "        vertical-align: top;\n",
       "    }\n",
       "\n",
       "    .dataframe thead th {\n",
       "        text-align: right;\n",
       "    }\n",
       "</style>\n",
       "<table border=\"1\" class=\"dataframe\">\n",
       "  <thead>\n",
       "    <tr style=\"text-align: right;\">\n",
       "      <th></th>\n",
       "      <th>0</th>\n",
       "      <th>1</th>\n",
       "      <th>2</th>\n",
       "      <th>3</th>\n",
       "      <th>4</th>\n",
       "      <th>A</th>\n",
       "    </tr>\n",
       "  </thead>\n",
       "  <tbody>\n",
       "    <tr>\n",
       "      <th>0</th>\n",
       "      <td>45.000000</td>\n",
       "      <td>1.021719</td>\n",
       "      <td>0.752894</td>\n",
       "      <td>-1.092341</td>\n",
       "      <td>-0.753078</td>\n",
       "      <td>Srijan&lt;god</td>\n",
       "    </tr>\n",
       "    <tr>\n",
       "      <th>1</th>\n",
       "      <td>0.804742</td>\n",
       "      <td>1.397170</td>\n",
       "      <td>-1.351503</td>\n",
       "      <td>-1.190643</td>\n",
       "      <td>-1.193891</td>\n",
       "      <td>NaN</td>\n",
       "    </tr>\n",
       "    <tr>\n",
       "      <th>2</th>\n",
       "      <td>-0.243279</td>\n",
       "      <td>1.205147</td>\n",
       "      <td>1.082351</td>\n",
       "      <td>-0.543075</td>\n",
       "      <td>0.697838</td>\n",
       "      <td>NaN</td>\n",
       "    </tr>\n",
       "    <tr>\n",
       "      <th>3</th>\n",
       "      <td>0.592207</td>\n",
       "      <td>0.762178</td>\n",
       "      <td>-1.619016</td>\n",
       "      <td>-0.920663</td>\n",
       "      <td>0.198993</td>\n",
       "      <td>NaN</td>\n",
       "    </tr>\n",
       "    <tr>\n",
       "      <th>4</th>\n",
       "      <td>-1.261960</td>\n",
       "      <td>-0.350986</td>\n",
       "      <td>-1.599198</td>\n",
       "      <td>-0.356849</td>\n",
       "      <td>-0.588683</td>\n",
       "      <td>NaN</td>\n",
       "    </tr>\n",
       "    <tr>\n",
       "      <th>5</th>\n",
       "      <td>-0.266196</td>\n",
       "      <td>-0.268285</td>\n",
       "      <td>0.577393</td>\n",
       "      <td>-0.870473</td>\n",
       "      <td>2.027108</td>\n",
       "      <td>NaN</td>\n",
       "    </tr>\n",
       "    <tr>\n",
       "      <th>6</th>\n",
       "      <td>-0.610872</td>\n",
       "      <td>-0.279693</td>\n",
       "      <td>4.420992</td>\n",
       "      <td>-0.173247</td>\n",
       "      <td>1.351880</td>\n",
       "      <td>NaN</td>\n",
       "    </tr>\n",
       "    <tr>\n",
       "      <th>7</th>\n",
       "      <td>-0.288044</td>\n",
       "      <td>0.915082</td>\n",
       "      <td>-0.711304</td>\n",
       "      <td>0.629757</td>\n",
       "      <td>0.879743</td>\n",
       "      <td>NaN</td>\n",
       "    </tr>\n",
       "    <tr>\n",
       "      <th>8</th>\n",
       "      <td>-0.788963</td>\n",
       "      <td>-2.046013</td>\n",
       "      <td>0.871436</td>\n",
       "      <td>1.049264</td>\n",
       "      <td>0.366128</td>\n",
       "      <td>NaN</td>\n",
       "    </tr>\n",
       "    <tr>\n",
       "      <th>9</th>\n",
       "      <td>0.159797</td>\n",
       "      <td>1.301803</td>\n",
       "      <td>0.699894</td>\n",
       "      <td>0.560153</td>\n",
       "      <td>0.868063</td>\n",
       "      <td>NaN</td>\n",
       "    </tr>\n",
       "  </tbody>\n",
       "</table>\n",
       "</div>"
      ]
     },
     "execution_count": 53,
     "metadata": {},
     "output_type": "execute_result"
    }
   ],
   "execution_count": 53
  },
  {
   "metadata": {
    "ExecuteTime": {
     "end_time": "2025-02-04T15:33:33.735683Z",
     "start_time": "2025-02-04T15:33:33.718213Z"
    }
   },
   "cell_type": "code",
   "source": "newdf.drop(\"A\", axis=1)",
   "id": "9ecae685135a6812",
   "outputs": [
    {
     "data": {
      "text/plain": [
       "           0         1         2         3         4\n",
       "0  45.000000  1.021719  0.752894 -1.092341 -0.753078\n",
       "1   0.804742  1.397170 -1.351503 -1.190643 -1.193891\n",
       "2  -0.243279  1.205147  1.082351 -0.543075  0.697838\n",
       "3   0.592207  0.762178 -1.619016 -0.920663  0.198993\n",
       "4  -1.261960 -0.350986 -1.599198 -0.356849 -0.588683\n",
       "5  -0.266196 -0.268285  0.577393 -0.870473  2.027108\n",
       "6  -0.610872 -0.279693  4.420992 -0.173247  1.351880\n",
       "7  -0.288044  0.915082 -0.711304  0.629757  0.879743\n",
       "8  -0.788963 -2.046013  0.871436  1.049264  0.366128\n",
       "9   0.159797  1.301803  0.699894  0.560153  0.868063"
      ],
      "text/html": [
       "<div>\n",
       "<style scoped>\n",
       "    .dataframe tbody tr th:only-of-type {\n",
       "        vertical-align: middle;\n",
       "    }\n",
       "\n",
       "    .dataframe tbody tr th {\n",
       "        vertical-align: top;\n",
       "    }\n",
       "\n",
       "    .dataframe thead th {\n",
       "        text-align: right;\n",
       "    }\n",
       "</style>\n",
       "<table border=\"1\" class=\"dataframe\">\n",
       "  <thead>\n",
       "    <tr style=\"text-align: right;\">\n",
       "      <th></th>\n",
       "      <th>0</th>\n",
       "      <th>1</th>\n",
       "      <th>2</th>\n",
       "      <th>3</th>\n",
       "      <th>4</th>\n",
       "    </tr>\n",
       "  </thead>\n",
       "  <tbody>\n",
       "    <tr>\n",
       "      <th>0</th>\n",
       "      <td>45.000000</td>\n",
       "      <td>1.021719</td>\n",
       "      <td>0.752894</td>\n",
       "      <td>-1.092341</td>\n",
       "      <td>-0.753078</td>\n",
       "    </tr>\n",
       "    <tr>\n",
       "      <th>1</th>\n",
       "      <td>0.804742</td>\n",
       "      <td>1.397170</td>\n",
       "      <td>-1.351503</td>\n",
       "      <td>-1.190643</td>\n",
       "      <td>-1.193891</td>\n",
       "    </tr>\n",
       "    <tr>\n",
       "      <th>2</th>\n",
       "      <td>-0.243279</td>\n",
       "      <td>1.205147</td>\n",
       "      <td>1.082351</td>\n",
       "      <td>-0.543075</td>\n",
       "      <td>0.697838</td>\n",
       "    </tr>\n",
       "    <tr>\n",
       "      <th>3</th>\n",
       "      <td>0.592207</td>\n",
       "      <td>0.762178</td>\n",
       "      <td>-1.619016</td>\n",
       "      <td>-0.920663</td>\n",
       "      <td>0.198993</td>\n",
       "    </tr>\n",
       "    <tr>\n",
       "      <th>4</th>\n",
       "      <td>-1.261960</td>\n",
       "      <td>-0.350986</td>\n",
       "      <td>-1.599198</td>\n",
       "      <td>-0.356849</td>\n",
       "      <td>-0.588683</td>\n",
       "    </tr>\n",
       "    <tr>\n",
       "      <th>5</th>\n",
       "      <td>-0.266196</td>\n",
       "      <td>-0.268285</td>\n",
       "      <td>0.577393</td>\n",
       "      <td>-0.870473</td>\n",
       "      <td>2.027108</td>\n",
       "    </tr>\n",
       "    <tr>\n",
       "      <th>6</th>\n",
       "      <td>-0.610872</td>\n",
       "      <td>-0.279693</td>\n",
       "      <td>4.420992</td>\n",
       "      <td>-0.173247</td>\n",
       "      <td>1.351880</td>\n",
       "    </tr>\n",
       "    <tr>\n",
       "      <th>7</th>\n",
       "      <td>-0.288044</td>\n",
       "      <td>0.915082</td>\n",
       "      <td>-0.711304</td>\n",
       "      <td>0.629757</td>\n",
       "      <td>0.879743</td>\n",
       "    </tr>\n",
       "    <tr>\n",
       "      <th>8</th>\n",
       "      <td>-0.788963</td>\n",
       "      <td>-2.046013</td>\n",
       "      <td>0.871436</td>\n",
       "      <td>1.049264</td>\n",
       "      <td>0.366128</td>\n",
       "    </tr>\n",
       "    <tr>\n",
       "      <th>9</th>\n",
       "      <td>0.159797</td>\n",
       "      <td>1.301803</td>\n",
       "      <td>0.699894</td>\n",
       "      <td>0.560153</td>\n",
       "      <td>0.868063</td>\n",
       "    </tr>\n",
       "  </tbody>\n",
       "</table>\n",
       "</div>"
      ]
     },
     "execution_count": 54,
     "metadata": {},
     "output_type": "execute_result"
    }
   ],
   "execution_count": 54
  },
  {
   "metadata": {
    "ExecuteTime": {
     "end_time": "2025-02-04T15:33:55.606752Z",
     "start_time": "2025-02-04T15:33:55.597890Z"
    }
   },
   "cell_type": "code",
   "source": "newdf",
   "id": "a3877d83f8254f01",
   "outputs": [
    {
     "data": {
      "text/plain": [
       "           0         1         2         3         4           A\n",
       "0  45.000000  1.021719  0.752894 -1.092341 -0.753078  Srijan<god\n",
       "1   0.804742  1.397170 -1.351503 -1.190643 -1.193891         NaN\n",
       "2  -0.243279  1.205147  1.082351 -0.543075  0.697838         NaN\n",
       "3   0.592207  0.762178 -1.619016 -0.920663  0.198993         NaN\n",
       "4  -1.261960 -0.350986 -1.599198 -0.356849 -0.588683         NaN\n",
       "5  -0.266196 -0.268285  0.577393 -0.870473  2.027108         NaN\n",
       "6  -0.610872 -0.279693  4.420992 -0.173247  1.351880         NaN\n",
       "7  -0.288044  0.915082 -0.711304  0.629757  0.879743         NaN\n",
       "8  -0.788963 -2.046013  0.871436  1.049264  0.366128         NaN\n",
       "9   0.159797  1.301803  0.699894  0.560153  0.868063         NaN"
      ],
      "text/html": [
       "<div>\n",
       "<style scoped>\n",
       "    .dataframe tbody tr th:only-of-type {\n",
       "        vertical-align: middle;\n",
       "    }\n",
       "\n",
       "    .dataframe tbody tr th {\n",
       "        vertical-align: top;\n",
       "    }\n",
       "\n",
       "    .dataframe thead th {\n",
       "        text-align: right;\n",
       "    }\n",
       "</style>\n",
       "<table border=\"1\" class=\"dataframe\">\n",
       "  <thead>\n",
       "    <tr style=\"text-align: right;\">\n",
       "      <th></th>\n",
       "      <th>0</th>\n",
       "      <th>1</th>\n",
       "      <th>2</th>\n",
       "      <th>3</th>\n",
       "      <th>4</th>\n",
       "      <th>A</th>\n",
       "    </tr>\n",
       "  </thead>\n",
       "  <tbody>\n",
       "    <tr>\n",
       "      <th>0</th>\n",
       "      <td>45.000000</td>\n",
       "      <td>1.021719</td>\n",
       "      <td>0.752894</td>\n",
       "      <td>-1.092341</td>\n",
       "      <td>-0.753078</td>\n",
       "      <td>Srijan&lt;god</td>\n",
       "    </tr>\n",
       "    <tr>\n",
       "      <th>1</th>\n",
       "      <td>0.804742</td>\n",
       "      <td>1.397170</td>\n",
       "      <td>-1.351503</td>\n",
       "      <td>-1.190643</td>\n",
       "      <td>-1.193891</td>\n",
       "      <td>NaN</td>\n",
       "    </tr>\n",
       "    <tr>\n",
       "      <th>2</th>\n",
       "      <td>-0.243279</td>\n",
       "      <td>1.205147</td>\n",
       "      <td>1.082351</td>\n",
       "      <td>-0.543075</td>\n",
       "      <td>0.697838</td>\n",
       "      <td>NaN</td>\n",
       "    </tr>\n",
       "    <tr>\n",
       "      <th>3</th>\n",
       "      <td>0.592207</td>\n",
       "      <td>0.762178</td>\n",
       "      <td>-1.619016</td>\n",
       "      <td>-0.920663</td>\n",
       "      <td>0.198993</td>\n",
       "      <td>NaN</td>\n",
       "    </tr>\n",
       "    <tr>\n",
       "      <th>4</th>\n",
       "      <td>-1.261960</td>\n",
       "      <td>-0.350986</td>\n",
       "      <td>-1.599198</td>\n",
       "      <td>-0.356849</td>\n",
       "      <td>-0.588683</td>\n",
       "      <td>NaN</td>\n",
       "    </tr>\n",
       "    <tr>\n",
       "      <th>5</th>\n",
       "      <td>-0.266196</td>\n",
       "      <td>-0.268285</td>\n",
       "      <td>0.577393</td>\n",
       "      <td>-0.870473</td>\n",
       "      <td>2.027108</td>\n",
       "      <td>NaN</td>\n",
       "    </tr>\n",
       "    <tr>\n",
       "      <th>6</th>\n",
       "      <td>-0.610872</td>\n",
       "      <td>-0.279693</td>\n",
       "      <td>4.420992</td>\n",
       "      <td>-0.173247</td>\n",
       "      <td>1.351880</td>\n",
       "      <td>NaN</td>\n",
       "    </tr>\n",
       "    <tr>\n",
       "      <th>7</th>\n",
       "      <td>-0.288044</td>\n",
       "      <td>0.915082</td>\n",
       "      <td>-0.711304</td>\n",
       "      <td>0.629757</td>\n",
       "      <td>0.879743</td>\n",
       "      <td>NaN</td>\n",
       "    </tr>\n",
       "    <tr>\n",
       "      <th>8</th>\n",
       "      <td>-0.788963</td>\n",
       "      <td>-2.046013</td>\n",
       "      <td>0.871436</td>\n",
       "      <td>1.049264</td>\n",
       "      <td>0.366128</td>\n",
       "      <td>NaN</td>\n",
       "    </tr>\n",
       "    <tr>\n",
       "      <th>9</th>\n",
       "      <td>0.159797</td>\n",
       "      <td>1.301803</td>\n",
       "      <td>0.699894</td>\n",
       "      <td>0.560153</td>\n",
       "      <td>0.868063</td>\n",
       "      <td>NaN</td>\n",
       "    </tr>\n",
       "  </tbody>\n",
       "</table>\n",
       "</div>"
      ]
     },
     "execution_count": 55,
     "metadata": {},
     "output_type": "execute_result"
    }
   ],
   "execution_count": 55
  },
  {
   "metadata": {
    "ExecuteTime": {
     "end_time": "2025-02-04T15:34:13.525556Z",
     "start_time": "2025-02-04T15:34:13.519038Z"
    }
   },
   "cell_type": "code",
   "source": "newdf = newdf.drop(\"A\", axis=1)",
   "id": "97b11bf2824ebb4a",
   "outputs": [],
   "execution_count": 56
  },
  {
   "metadata": {
    "ExecuteTime": {
     "end_time": "2025-02-04T15:34:17.781590Z",
     "start_time": "2025-02-04T15:34:17.775092Z"
    }
   },
   "cell_type": "code",
   "source": "newdf",
   "id": "abd55981132e4bc8",
   "outputs": [
    {
     "data": {
      "text/plain": [
       "           0         1         2         3         4\n",
       "0  45.000000  1.021719  0.752894 -1.092341 -0.753078\n",
       "1   0.804742  1.397170 -1.351503 -1.190643 -1.193891\n",
       "2  -0.243279  1.205147  1.082351 -0.543075  0.697838\n",
       "3   0.592207  0.762178 -1.619016 -0.920663  0.198993\n",
       "4  -1.261960 -0.350986 -1.599198 -0.356849 -0.588683\n",
       "5  -0.266196 -0.268285  0.577393 -0.870473  2.027108\n",
       "6  -0.610872 -0.279693  4.420992 -0.173247  1.351880\n",
       "7  -0.288044  0.915082 -0.711304  0.629757  0.879743\n",
       "8  -0.788963 -2.046013  0.871436  1.049264  0.366128\n",
       "9   0.159797  1.301803  0.699894  0.560153  0.868063"
      ],
      "text/html": [
       "<div>\n",
       "<style scoped>\n",
       "    .dataframe tbody tr th:only-of-type {\n",
       "        vertical-align: middle;\n",
       "    }\n",
       "\n",
       "    .dataframe tbody tr th {\n",
       "        vertical-align: top;\n",
       "    }\n",
       "\n",
       "    .dataframe thead th {\n",
       "        text-align: right;\n",
       "    }\n",
       "</style>\n",
       "<table border=\"1\" class=\"dataframe\">\n",
       "  <thead>\n",
       "    <tr style=\"text-align: right;\">\n",
       "      <th></th>\n",
       "      <th>0</th>\n",
       "      <th>1</th>\n",
       "      <th>2</th>\n",
       "      <th>3</th>\n",
       "      <th>4</th>\n",
       "    </tr>\n",
       "  </thead>\n",
       "  <tbody>\n",
       "    <tr>\n",
       "      <th>0</th>\n",
       "      <td>45.000000</td>\n",
       "      <td>1.021719</td>\n",
       "      <td>0.752894</td>\n",
       "      <td>-1.092341</td>\n",
       "      <td>-0.753078</td>\n",
       "    </tr>\n",
       "    <tr>\n",
       "      <th>1</th>\n",
       "      <td>0.804742</td>\n",
       "      <td>1.397170</td>\n",
       "      <td>-1.351503</td>\n",
       "      <td>-1.190643</td>\n",
       "      <td>-1.193891</td>\n",
       "    </tr>\n",
       "    <tr>\n",
       "      <th>2</th>\n",
       "      <td>-0.243279</td>\n",
       "      <td>1.205147</td>\n",
       "      <td>1.082351</td>\n",
       "      <td>-0.543075</td>\n",
       "      <td>0.697838</td>\n",
       "    </tr>\n",
       "    <tr>\n",
       "      <th>3</th>\n",
       "      <td>0.592207</td>\n",
       "      <td>0.762178</td>\n",
       "      <td>-1.619016</td>\n",
       "      <td>-0.920663</td>\n",
       "      <td>0.198993</td>\n",
       "    </tr>\n",
       "    <tr>\n",
       "      <th>4</th>\n",
       "      <td>-1.261960</td>\n",
       "      <td>-0.350986</td>\n",
       "      <td>-1.599198</td>\n",
       "      <td>-0.356849</td>\n",
       "      <td>-0.588683</td>\n",
       "    </tr>\n",
       "    <tr>\n",
       "      <th>5</th>\n",
       "      <td>-0.266196</td>\n",
       "      <td>-0.268285</td>\n",
       "      <td>0.577393</td>\n",
       "      <td>-0.870473</td>\n",
       "      <td>2.027108</td>\n",
       "    </tr>\n",
       "    <tr>\n",
       "      <th>6</th>\n",
       "      <td>-0.610872</td>\n",
       "      <td>-0.279693</td>\n",
       "      <td>4.420992</td>\n",
       "      <td>-0.173247</td>\n",
       "      <td>1.351880</td>\n",
       "    </tr>\n",
       "    <tr>\n",
       "      <th>7</th>\n",
       "      <td>-0.288044</td>\n",
       "      <td>0.915082</td>\n",
       "      <td>-0.711304</td>\n",
       "      <td>0.629757</td>\n",
       "      <td>0.879743</td>\n",
       "    </tr>\n",
       "    <tr>\n",
       "      <th>8</th>\n",
       "      <td>-0.788963</td>\n",
       "      <td>-2.046013</td>\n",
       "      <td>0.871436</td>\n",
       "      <td>1.049264</td>\n",
       "      <td>0.366128</td>\n",
       "    </tr>\n",
       "    <tr>\n",
       "      <th>9</th>\n",
       "      <td>0.159797</td>\n",
       "      <td>1.301803</td>\n",
       "      <td>0.699894</td>\n",
       "      <td>0.560153</td>\n",
       "      <td>0.868063</td>\n",
       "    </tr>\n",
       "  </tbody>\n",
       "</table>\n",
       "</div>"
      ]
     },
     "execution_count": 57,
     "metadata": {},
     "output_type": "execute_result"
    }
   ],
   "execution_count": 57
  },
  {
   "metadata": {
    "ExecuteTime": {
     "end_time": "2025-02-04T15:36:02.889673Z",
     "start_time": "2025-02-04T15:36:02.868749Z"
    }
   },
   "cell_type": "code",
   "source": "newdf.loc[:, [3,4]]",
   "id": "a15ba525777d8abe",
   "outputs": [
    {
     "data": {
      "text/plain": [
       "          3         4\n",
       "0 -1.092341 -0.753078\n",
       "1 -1.190643 -1.193891\n",
       "2 -0.543075  0.697838\n",
       "3 -0.920663  0.198993\n",
       "4 -0.356849 -0.588683\n",
       "5 -0.870473  2.027108\n",
       "6 -0.173247  1.351880\n",
       "7  0.629757  0.879743\n",
       "8  1.049264  0.366128\n",
       "9  0.560153  0.868063"
      ],
      "text/html": [
       "<div>\n",
       "<style scoped>\n",
       "    .dataframe tbody tr th:only-of-type {\n",
       "        vertical-align: middle;\n",
       "    }\n",
       "\n",
       "    .dataframe tbody tr th {\n",
       "        vertical-align: top;\n",
       "    }\n",
       "\n",
       "    .dataframe thead th {\n",
       "        text-align: right;\n",
       "    }\n",
       "</style>\n",
       "<table border=\"1\" class=\"dataframe\">\n",
       "  <thead>\n",
       "    <tr style=\"text-align: right;\">\n",
       "      <th></th>\n",
       "      <th>3</th>\n",
       "      <th>4</th>\n",
       "    </tr>\n",
       "  </thead>\n",
       "  <tbody>\n",
       "    <tr>\n",
       "      <th>0</th>\n",
       "      <td>-1.092341</td>\n",
       "      <td>-0.753078</td>\n",
       "    </tr>\n",
       "    <tr>\n",
       "      <th>1</th>\n",
       "      <td>-1.190643</td>\n",
       "      <td>-1.193891</td>\n",
       "    </tr>\n",
       "    <tr>\n",
       "      <th>2</th>\n",
       "      <td>-0.543075</td>\n",
       "      <td>0.697838</td>\n",
       "    </tr>\n",
       "    <tr>\n",
       "      <th>3</th>\n",
       "      <td>-0.920663</td>\n",
       "      <td>0.198993</td>\n",
       "    </tr>\n",
       "    <tr>\n",
       "      <th>4</th>\n",
       "      <td>-0.356849</td>\n",
       "      <td>-0.588683</td>\n",
       "    </tr>\n",
       "    <tr>\n",
       "      <th>5</th>\n",
       "      <td>-0.870473</td>\n",
       "      <td>2.027108</td>\n",
       "    </tr>\n",
       "    <tr>\n",
       "      <th>6</th>\n",
       "      <td>-0.173247</td>\n",
       "      <td>1.351880</td>\n",
       "    </tr>\n",
       "    <tr>\n",
       "      <th>7</th>\n",
       "      <td>0.629757</td>\n",
       "      <td>0.879743</td>\n",
       "    </tr>\n",
       "    <tr>\n",
       "      <th>8</th>\n",
       "      <td>1.049264</td>\n",
       "      <td>0.366128</td>\n",
       "    </tr>\n",
       "    <tr>\n",
       "      <th>9</th>\n",
       "      <td>0.560153</td>\n",
       "      <td>0.868063</td>\n",
       "    </tr>\n",
       "  </tbody>\n",
       "</table>\n",
       "</div>"
      ]
     },
     "execution_count": 59,
     "metadata": {},
     "output_type": "execute_result"
    }
   ],
   "execution_count": 59
  },
  {
   "metadata": {
    "ExecuteTime": {
     "end_time": "2025-02-04T15:36:23.267632Z",
     "start_time": "2025-02-04T15:36:23.250908Z"
    }
   },
   "cell_type": "code",
   "source": "newdf.loc[[1,2],:]",
   "id": "704b196c0803489f",
   "outputs": [
    {
     "data": {
      "text/plain": [
       "          0         1         2         3         4\n",
       "1  0.804742  1.397170 -1.351503 -1.190643 -1.193891\n",
       "2 -0.243279  1.205147  1.082351 -0.543075  0.697838"
      ],
      "text/html": [
       "<div>\n",
       "<style scoped>\n",
       "    .dataframe tbody tr th:only-of-type {\n",
       "        vertical-align: middle;\n",
       "    }\n",
       "\n",
       "    .dataframe tbody tr th {\n",
       "        vertical-align: top;\n",
       "    }\n",
       "\n",
       "    .dataframe thead th {\n",
       "        text-align: right;\n",
       "    }\n",
       "</style>\n",
       "<table border=\"1\" class=\"dataframe\">\n",
       "  <thead>\n",
       "    <tr style=\"text-align: right;\">\n",
       "      <th></th>\n",
       "      <th>0</th>\n",
       "      <th>1</th>\n",
       "      <th>2</th>\n",
       "      <th>3</th>\n",
       "      <th>4</th>\n",
       "    </tr>\n",
       "  </thead>\n",
       "  <tbody>\n",
       "    <tr>\n",
       "      <th>1</th>\n",
       "      <td>0.804742</td>\n",
       "      <td>1.397170</td>\n",
       "      <td>-1.351503</td>\n",
       "      <td>-1.190643</td>\n",
       "      <td>-1.193891</td>\n",
       "    </tr>\n",
       "    <tr>\n",
       "      <th>2</th>\n",
       "      <td>-0.243279</td>\n",
       "      <td>1.205147</td>\n",
       "      <td>1.082351</td>\n",
       "      <td>-0.543075</td>\n",
       "      <td>0.697838</td>\n",
       "    </tr>\n",
       "  </tbody>\n",
       "</table>\n",
       "</div>"
      ]
     },
     "execution_count": 60,
     "metadata": {},
     "output_type": "execute_result"
    }
   ],
   "execution_count": 60
  },
  {
   "metadata": {
    "ExecuteTime": {
     "end_time": "2025-02-04T15:38:23.928306Z",
     "start_time": "2025-02-04T15:38:23.921107Z"
    }
   },
   "cell_type": "code",
   "source": "newdf.head(3)",
   "id": "ac89fbbdc9080870",
   "outputs": [
    {
     "data": {
      "text/plain": [
       "           0         1         2         3         4\n",
       "0  45.000000  1.021719  0.752894 -1.092341 -0.753078\n",
       "1   0.804742  1.397170 -1.351503 -1.190643 -1.193891\n",
       "2  -0.243279  1.205147  1.082351 -0.543075  0.697838"
      ],
      "text/html": [
       "<div>\n",
       "<style scoped>\n",
       "    .dataframe tbody tr th:only-of-type {\n",
       "        vertical-align: middle;\n",
       "    }\n",
       "\n",
       "    .dataframe tbody tr th {\n",
       "        vertical-align: top;\n",
       "    }\n",
       "\n",
       "    .dataframe thead th {\n",
       "        text-align: right;\n",
       "    }\n",
       "</style>\n",
       "<table border=\"1\" class=\"dataframe\">\n",
       "  <thead>\n",
       "    <tr style=\"text-align: right;\">\n",
       "      <th></th>\n",
       "      <th>0</th>\n",
       "      <th>1</th>\n",
       "      <th>2</th>\n",
       "      <th>3</th>\n",
       "      <th>4</th>\n",
       "    </tr>\n",
       "  </thead>\n",
       "  <tbody>\n",
       "    <tr>\n",
       "      <th>0</th>\n",
       "      <td>45.000000</td>\n",
       "      <td>1.021719</td>\n",
       "      <td>0.752894</td>\n",
       "      <td>-1.092341</td>\n",
       "      <td>-0.753078</td>\n",
       "    </tr>\n",
       "    <tr>\n",
       "      <th>1</th>\n",
       "      <td>0.804742</td>\n",
       "      <td>1.397170</td>\n",
       "      <td>-1.351503</td>\n",
       "      <td>-1.190643</td>\n",
       "      <td>-1.193891</td>\n",
       "    </tr>\n",
       "    <tr>\n",
       "      <th>2</th>\n",
       "      <td>-0.243279</td>\n",
       "      <td>1.205147</td>\n",
       "      <td>1.082351</td>\n",
       "      <td>-0.543075</td>\n",
       "      <td>0.697838</td>\n",
       "    </tr>\n",
       "  </tbody>\n",
       "</table>\n",
       "</div>"
      ]
     },
     "execution_count": 61,
     "metadata": {},
     "output_type": "execute_result"
    }
   ],
   "execution_count": 61
  },
  {
   "metadata": {
    "ExecuteTime": {
     "end_time": "2025-02-04T15:48:25.479357Z",
     "start_time": "2025-02-04T15:48:25.473841Z"
    }
   },
   "cell_type": "code",
   "source": [
    "sri = {\n",
    "    1 : [10,20,30],\n",
    "    2 : [40,50,60],\n",
    "    3 : [50,60,70]\n",
    "}"
   ],
   "id": "8cb49e731ead269f",
   "outputs": [],
   "execution_count": 62
  },
  {
   "metadata": {
    "ExecuteTime": {
     "end_time": "2025-02-04T15:48:30.051215Z",
     "start_time": "2025-02-04T15:48:30.035050Z"
    }
   },
   "cell_type": "code",
   "source": "df = pd.DataFrame(sri)",
   "id": "52715617d09f748e",
   "outputs": [],
   "execution_count": 63
  },
  {
   "metadata": {
    "ExecuteTime": {
     "end_time": "2025-02-04T15:48:32.575477Z",
     "start_time": "2025-02-04T15:48:32.566467Z"
    }
   },
   "cell_type": "code",
   "source": "df",
   "id": "7e37f936f26ac417",
   "outputs": [
    {
     "data": {
      "text/plain": [
       "    1   2   3\n",
       "0  10  40  50\n",
       "1  20  50  60\n",
       "2  30  60  70"
      ],
      "text/html": [
       "<div>\n",
       "<style scoped>\n",
       "    .dataframe tbody tr th:only-of-type {\n",
       "        vertical-align: middle;\n",
       "    }\n",
       "\n",
       "    .dataframe tbody tr th {\n",
       "        vertical-align: top;\n",
       "    }\n",
       "\n",
       "    .dataframe thead th {\n",
       "        text-align: right;\n",
       "    }\n",
       "</style>\n",
       "<table border=\"1\" class=\"dataframe\">\n",
       "  <thead>\n",
       "    <tr style=\"text-align: right;\">\n",
       "      <th></th>\n",
       "      <th>1</th>\n",
       "      <th>2</th>\n",
       "      <th>3</th>\n",
       "    </tr>\n",
       "  </thead>\n",
       "  <tbody>\n",
       "    <tr>\n",
       "      <th>0</th>\n",
       "      <td>10</td>\n",
       "      <td>40</td>\n",
       "      <td>50</td>\n",
       "    </tr>\n",
       "    <tr>\n",
       "      <th>1</th>\n",
       "      <td>20</td>\n",
       "      <td>50</td>\n",
       "      <td>60</td>\n",
       "    </tr>\n",
       "    <tr>\n",
       "      <th>2</th>\n",
       "      <td>30</td>\n",
       "      <td>60</td>\n",
       "      <td>70</td>\n",
       "    </tr>\n",
       "  </tbody>\n",
       "</table>\n",
       "</div>"
      ]
     },
     "execution_count": 64,
     "metadata": {},
     "output_type": "execute_result"
    }
   ],
   "execution_count": 64
  },
  {
   "metadata": {
    "ExecuteTime": {
     "end_time": "2025-02-04T15:49:03.052206Z",
     "start_time": "2025-02-04T15:49:03.039192Z"
    }
   },
   "cell_type": "code",
   "source": "df.describe()",
   "id": "264a382ed863989e",
   "outputs": [
    {
     "data": {
      "text/plain": [
       "          1     2     3\n",
       "count   3.0   3.0   3.0\n",
       "mean   20.0  50.0  60.0\n",
       "std    10.0  10.0  10.0\n",
       "min    10.0  40.0  50.0\n",
       "25%    15.0  45.0  55.0\n",
       "50%    20.0  50.0  60.0\n",
       "75%    25.0  55.0  65.0\n",
       "max    30.0  60.0  70.0"
      ],
      "text/html": [
       "<div>\n",
       "<style scoped>\n",
       "    .dataframe tbody tr th:only-of-type {\n",
       "        vertical-align: middle;\n",
       "    }\n",
       "\n",
       "    .dataframe tbody tr th {\n",
       "        vertical-align: top;\n",
       "    }\n",
       "\n",
       "    .dataframe thead th {\n",
       "        text-align: right;\n",
       "    }\n",
       "</style>\n",
       "<table border=\"1\" class=\"dataframe\">\n",
       "  <thead>\n",
       "    <tr style=\"text-align: right;\">\n",
       "      <th></th>\n",
       "      <th>1</th>\n",
       "      <th>2</th>\n",
       "      <th>3</th>\n",
       "    </tr>\n",
       "  </thead>\n",
       "  <tbody>\n",
       "    <tr>\n",
       "      <th>count</th>\n",
       "      <td>3.0</td>\n",
       "      <td>3.0</td>\n",
       "      <td>3.0</td>\n",
       "    </tr>\n",
       "    <tr>\n",
       "      <th>mean</th>\n",
       "      <td>20.0</td>\n",
       "      <td>50.0</td>\n",
       "      <td>60.0</td>\n",
       "    </tr>\n",
       "    <tr>\n",
       "      <th>std</th>\n",
       "      <td>10.0</td>\n",
       "      <td>10.0</td>\n",
       "      <td>10.0</td>\n",
       "    </tr>\n",
       "    <tr>\n",
       "      <th>min</th>\n",
       "      <td>10.0</td>\n",
       "      <td>40.0</td>\n",
       "      <td>50.0</td>\n",
       "    </tr>\n",
       "    <tr>\n",
       "      <th>25%</th>\n",
       "      <td>15.0</td>\n",
       "      <td>45.0</td>\n",
       "      <td>55.0</td>\n",
       "    </tr>\n",
       "    <tr>\n",
       "      <th>50%</th>\n",
       "      <td>20.0</td>\n",
       "      <td>50.0</td>\n",
       "      <td>60.0</td>\n",
       "    </tr>\n",
       "    <tr>\n",
       "      <th>75%</th>\n",
       "      <td>25.0</td>\n",
       "      <td>55.0</td>\n",
       "      <td>65.0</td>\n",
       "    </tr>\n",
       "    <tr>\n",
       "      <th>max</th>\n",
       "      <td>30.0</td>\n",
       "      <td>60.0</td>\n",
       "      <td>70.0</td>\n",
       "    </tr>\n",
       "  </tbody>\n",
       "</table>\n",
       "</div>"
      ]
     },
     "execution_count": 65,
     "metadata": {},
     "output_type": "execute_result"
    }
   ],
   "execution_count": 65
  },
  {
   "metadata": {
    "ExecuteTime": {
     "end_time": "2025-02-04T15:49:10.419Z",
     "start_time": "2025-02-04T15:49:10.412743Z"
    }
   },
   "cell_type": "code",
   "source": "df.max",
   "id": "1fe41d23fe3f1776",
   "outputs": [
    {
     "data": {
      "text/plain": [
       "<bound method DataFrame.max of     1   2   3\n",
       "0  10  40  50\n",
       "1  20  50  60\n",
       "2  30  60  70>"
      ]
     },
     "execution_count": 66,
     "metadata": {},
     "output_type": "execute_result"
    }
   ],
   "execution_count": 66
  },
  {
   "metadata": {
    "ExecuteTime": {
     "end_time": "2025-02-04T15:49:17.641875Z",
     "start_time": "2025-02-04T15:49:17.636520Z"
    }
   },
   "cell_type": "code",
   "source": "df.max()",
   "id": "de1d875521d1cd8d",
   "outputs": [
    {
     "data": {
      "text/plain": [
       "1    30\n",
       "2    60\n",
       "3    70\n",
       "dtype: int64"
      ]
     },
     "execution_count": 67,
     "metadata": {},
     "output_type": "execute_result"
    }
   ],
   "execution_count": 67
  },
  {
   "metadata": {
    "ExecuteTime": {
     "end_time": "2025-02-04T15:49:34.979410Z",
     "start_time": "2025-02-04T15:49:34.967909Z"
    }
   },
   "cell_type": "code",
   "source": "df.min()",
   "id": "eee06f687191f02a",
   "outputs": [
    {
     "data": {
      "text/plain": [
       "1    10\n",
       "2    40\n",
       "3    50\n",
       "dtype: int64"
      ]
     },
     "execution_count": 68,
     "metadata": {},
     "output_type": "execute_result"
    }
   ],
   "execution_count": 68
  },
  {
   "metadata": {
    "ExecuteTime": {
     "end_time": "2025-02-04T15:49:45.661815Z",
     "start_time": "2025-02-04T15:49:45.656345Z"
    }
   },
   "cell_type": "code",
   "source": "df.mean()",
   "id": "aadf4af02534fb01",
   "outputs": [
    {
     "data": {
      "text/plain": [
       "1    20.0\n",
       "2    50.0\n",
       "3    60.0\n",
       "dtype: float64"
      ]
     },
     "execution_count": 69,
     "metadata": {},
     "output_type": "execute_result"
    }
   ],
   "execution_count": 69
  },
  {
   "metadata": {
    "ExecuteTime": {
     "end_time": "2025-02-04T15:49:51.608023Z",
     "start_time": "2025-02-04T15:49:51.595462Z"
    }
   },
   "cell_type": "code",
   "source": "df.corr()",
   "id": "922b29ca4311917a",
   "outputs": [
    {
     "data": {
      "text/plain": [
       "     1    2    3\n",
       "1  1.0  1.0  1.0\n",
       "2  1.0  1.0  1.0\n",
       "3  1.0  1.0  1.0"
      ],
      "text/html": [
       "<div>\n",
       "<style scoped>\n",
       "    .dataframe tbody tr th:only-of-type {\n",
       "        vertical-align: middle;\n",
       "    }\n",
       "\n",
       "    .dataframe tbody tr th {\n",
       "        vertical-align: top;\n",
       "    }\n",
       "\n",
       "    .dataframe thead th {\n",
       "        text-align: right;\n",
       "    }\n",
       "</style>\n",
       "<table border=\"1\" class=\"dataframe\">\n",
       "  <thead>\n",
       "    <tr style=\"text-align: right;\">\n",
       "      <th></th>\n",
       "      <th>1</th>\n",
       "      <th>2</th>\n",
       "      <th>3</th>\n",
       "    </tr>\n",
       "  </thead>\n",
       "  <tbody>\n",
       "    <tr>\n",
       "      <th>1</th>\n",
       "      <td>1.0</td>\n",
       "      <td>1.0</td>\n",
       "      <td>1.0</td>\n",
       "    </tr>\n",
       "    <tr>\n",
       "      <th>2</th>\n",
       "      <td>1.0</td>\n",
       "      <td>1.0</td>\n",
       "      <td>1.0</td>\n",
       "    </tr>\n",
       "    <tr>\n",
       "      <th>3</th>\n",
       "      <td>1.0</td>\n",
       "      <td>1.0</td>\n",
       "      <td>1.0</td>\n",
       "    </tr>\n",
       "  </tbody>\n",
       "</table>\n",
       "</div>"
      ]
     },
     "execution_count": 70,
     "metadata": {},
     "output_type": "execute_result"
    }
   ],
   "execution_count": 70
  },
  {
   "metadata": {
    "ExecuteTime": {
     "end_time": "2025-02-04T15:50:12.466594Z",
     "start_time": "2025-02-04T15:50:12.459039Z"
    }
   },
   "cell_type": "code",
   "source": "df.count()",
   "id": "49f7bf7cff4b8514",
   "outputs": [
    {
     "data": {
      "text/plain": [
       "1    3\n",
       "2    3\n",
       "3    3\n",
       "dtype: int64"
      ]
     },
     "execution_count": 71,
     "metadata": {},
     "output_type": "execute_result"
    }
   ],
   "execution_count": 71
  },
  {
   "metadata": {
    "ExecuteTime": {
     "end_time": "2025-02-04T15:50:22.572321Z",
     "start_time": "2025-02-04T15:50:22.565815Z"
    }
   },
   "cell_type": "code",
   "source": "df.median()",
   "id": "4dff1ce6465a53be",
   "outputs": [
    {
     "data": {
      "text/plain": [
       "1    20.0\n",
       "2    50.0\n",
       "3    60.0\n",
       "dtype: float64"
      ]
     },
     "execution_count": 72,
     "metadata": {},
     "output_type": "execute_result"
    }
   ],
   "execution_count": 72
  },
  {
   "metadata": {
    "ExecuteTime": {
     "end_time": "2025-02-04T15:50:31.128463Z",
     "start_time": "2025-02-04T15:50:31.122048Z"
    }
   },
   "cell_type": "code",
   "source": "df.std()",
   "id": "5a04845fa38f6c70",
   "outputs": [
    {
     "data": {
      "text/plain": [
       "1    10.0\n",
       "2    10.0\n",
       "3    10.0\n",
       "dtype: float64"
      ]
     },
     "execution_count": 73,
     "metadata": {},
     "output_type": "execute_result"
    }
   ],
   "execution_count": 73
  },
  {
   "metadata": {},
   "cell_type": "code",
   "outputs": [],
   "execution_count": null,
   "source": "",
   "id": "aea0ea1fa380ac8b"
  }
 ],
 "metadata": {
  "kernelspec": {
   "display_name": "Python 3",
   "language": "python",
   "name": "python3"
  },
  "language_info": {
   "codemirror_mode": {
    "name": "ipython",
    "version": 2
   },
   "file_extension": ".py",
   "mimetype": "text/x-python",
   "name": "python",
   "nbconvert_exporter": "python",
   "pygments_lexer": "ipython2",
   "version": "2.7.6"
  }
 },
 "nbformat": 4,
 "nbformat_minor": 5
}
